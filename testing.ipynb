{
 "cells": [
  {
   "cell_type": "markdown",
   "id": "46f73037-9377-48cc-bd01-d51570aed946",
   "metadata": {},
   "source": [
    "# ***This notebook is only for testing***"
   ]
  },
  {
   "cell_type": "code",
   "execution_count": 1,
   "id": "94aca112-5eb8-47bf-aa17-5f82070c69a0",
   "metadata": {},
   "outputs": [],
   "source": [
    "from matrix import Matrix\n",
    "import time\n"
   ]
  },
  {
   "cell_type": "code",
   "execution_count": 2,
   "id": "cbe13af0-f3c6-4e7b-a645-627c916b7875",
   "metadata": {},
   "outputs": [],
   "source": [
    "x = Matrix([[1,2,1],[0,1,0],[2,3,4]])\n",
    "y = Matrix([[2,5],[6,7],[1,8]])"
   ]
  },
  {
   "cell_type": "code",
   "execution_count": 3,
   "id": "c5daff44",
   "metadata": {},
   "outputs": [
    {
     "name": "stdout",
     "output_type": "stream",
     "text": [
      "CPU times: total: 0 ns\n",
      "Wall time: 0 ns\n"
     ]
    }
   ],
   "source": [
    "%%time\n",
    "z = x @ y"
   ]
  },
  {
   "cell_type": "code",
   "execution_count": 4,
   "id": "690f102d-a731-4d78-8b12-6620b2a37f89",
   "metadata": {},
   "outputs": [
    {
     "name": "stdout",
     "output_type": "stream",
     "text": [
      "[[15 27]\n",
      " [ 6  7]\n",
      " [26 63]]\n"
     ]
    }
   ],
   "source": [
    "print(z.numpy())"
   ]
  },
  {
   "cell_type": "code",
   "execution_count": 5,
   "id": "a00814ed-48e6-4406-a4f9-e95a596b9cf5",
   "metadata": {},
   "outputs": [],
   "source": [
    "test = [\n",
    "  [1,2,3,0],\n",
    "  [4,5,6,1],\n",
    "  [4,5,6,1],\n",
    "  [7,8,9,2]\n",
    "]\n",
    "\n",
    "matrix = Matrix(test)"
   ]
  },
  {
   "cell_type": "code",
   "execution_count": 6,
   "id": "379922ef",
   "metadata": {},
   "outputs": [
    {
     "data": {
      "text/plain": [
       "<'Matrix' object at 0x1ba2fcf86d0 size=16 shape=(4, 4) symbol=None>"
      ]
     },
     "execution_count": 6,
     "metadata": {},
     "output_type": "execute_result"
    }
   ],
   "source": [
    "matrix"
   ]
  },
  {
   "cell_type": "code",
   "execution_count": 7,
   "id": "a7f1b6a4",
   "metadata": {},
   "outputs": [
    {
     "data": {
      "text/plain": [
       "array([[5, 6, 6],\n",
       "       [5, 6, 6],\n",
       "       [8, 9, 9]])"
      ]
     },
     "execution_count": 7,
     "metadata": {},
     "output_type": "execute_result"
    }
   ],
   "source": [
    "matrix.max_pooling((2,2)).numpy()"
   ]
  },
  {
   "cell_type": "code",
   "execution_count": 8,
   "id": "19f90a2d",
   "metadata": {},
   "outputs": [
    {
     "name": "stdout",
     "output_type": "stream",
     "text": [
      "CPU times: total: 0 ns\n",
      "Wall time: 0 ns\n"
     ]
    },
    {
     "data": {
      "text/plain": [
       "9"
      ]
     },
     "execution_count": 8,
     "metadata": {},
     "output_type": "execute_result"
    }
   ],
   "source": [
    "%%time\n",
    "matrix.argmax()"
   ]
  },
  {
   "cell_type": "code",
   "execution_count": 9,
   "id": "ff5aaacc",
   "metadata": {},
   "outputs": [
    {
     "name": "stdout",
     "output_type": "stream",
     "text": [
      "CPU times: total: 0 ns\n",
      "Wall time: 0 ns\n"
     ]
    },
    {
     "data": {
      "text/plain": [
       "0"
      ]
     },
     "execution_count": 9,
     "metadata": {},
     "output_type": "execute_result"
    }
   ],
   "source": [
    "%%time\n",
    "matrix.argmin()"
   ]
  },
  {
   "cell_type": "code",
   "execution_count": 10,
   "id": "c2124383",
   "metadata": {},
   "outputs": [],
   "source": [
    "from matrix import identity"
   ]
  },
  {
   "cell_type": "code",
   "execution_count": 11,
   "id": "a3ccc6ff",
   "metadata": {},
   "outputs": [
    {
     "data": {
      "text/plain": [
       "array([[1, 0, 0],\n",
       "       [0, 1, 0],\n",
       "       [0, 0, 1]])"
      ]
     },
     "execution_count": 11,
     "metadata": {},
     "output_type": "execute_result"
    }
   ],
   "source": [
    "identity(3).numpy()"
   ]
  },
  {
   "cell_type": "code",
   "execution_count": 12,
   "id": "9b3c0e6b",
   "metadata": {},
   "outputs": [
    {
     "data": {
      "text/plain": [
       "<'Matrix' object at 0x1ba2fba1250 size=16 shape=(4, 4) symbol=None>"
      ]
     },
     "execution_count": 12,
     "metadata": {},
     "output_type": "execute_result"
    }
   ],
   "source": [
    "matrix.rand_like()"
   ]
  },
  {
   "cell_type": "code",
   "execution_count": 13,
   "id": "91051a47",
   "metadata": {},
   "outputs": [
    {
     "data": {
      "text/plain": [
       "array([[0, 0, 0, 0],\n",
       "       [0, 0, 0, 0],\n",
       "       [0, 0, 0, 0],\n",
       "       [0, 0, 0, 0]])"
      ]
     },
     "execution_count": 13,
     "metadata": {},
     "output_type": "execute_result"
    }
   ],
   "source": [
    "matrix.zeros_like().numpy()"
   ]
  },
  {
   "cell_type": "code",
   "execution_count": 14,
   "id": "79aebceb",
   "metadata": {},
   "outputs": [
    {
     "data": {
      "text/plain": [
       "array([[1, 1, 1, 1],\n",
       "       [1, 1, 1, 1],\n",
       "       [1, 1, 1, 1],\n",
       "       [1, 1, 1, 1]])"
      ]
     },
     "execution_count": 14,
     "metadata": {},
     "output_type": "execute_result"
    }
   ],
   "source": [
    "matrix.ones_like().numpy()"
   ]
  },
  {
   "cell_type": "code",
   "execution_count": 15,
   "id": "1ec04b24",
   "metadata": {},
   "outputs": [],
   "source": [
    "from torch import Tensor\n",
    "import torch"
   ]
  },
  {
   "cell_type": "code",
   "execution_count": 16,
   "id": "25de0995-0785-4aac-8e71-c867fc57c0b1",
   "metadata": {},
   "outputs": [],
   "source": [
    "x = Tensor([[1,2,3],[3,4,5],[6,7,8]])\n",
    "y = Tensor([[1,4,9],[9,16,25],[36,49,64]])"
   ]
  },
  {
   "cell_type": "code",
   "execution_count": 17,
   "id": "848675ec-c4ea-408e-a475-40b561b70622",
   "metadata": {},
   "outputs": [],
   "source": [
    "z = torch.stack((x,y),dim = 0)"
   ]
  },
  {
   "cell_type": "code",
   "execution_count": 18,
   "id": "3bc2b006-7596-4bf4-bb92-4a06f03f80c7",
   "metadata": {},
   "outputs": [
    {
     "data": {
      "text/plain": [
       "tensor([[[ 1.,  2.,  3.],\n",
       "         [ 3.,  4.,  5.],\n",
       "         [ 6.,  7.,  8.]],\n",
       "\n",
       "        [[ 1.,  4.,  9.],\n",
       "         [ 9., 16., 25.],\n",
       "         [36., 49., 64.]]])"
      ]
     },
     "execution_count": 18,
     "metadata": {},
     "output_type": "execute_result"
    }
   ],
   "source": [
    "z"
   ]
  },
  {
   "cell_type": "code",
   "execution_count": 19,
   "id": "9c3a0f07-5f30-4b9f-9971-6c6da40100be",
   "metadata": {},
   "outputs": [],
   "source": [
    "a = torch.stack((x,y),dim = 1)"
   ]
  },
  {
   "cell_type": "code",
   "execution_count": 20,
   "id": "d6520d9d-3962-4a24-87fe-bfca46a3234c",
   "metadata": {},
   "outputs": [
    {
     "data": {
      "text/plain": [
       "tensor([[[ 1.,  2.,  3.],\n",
       "         [ 1.,  4.,  9.]],\n",
       "\n",
       "        [[ 3.,  4.,  5.],\n",
       "         [ 9., 16., 25.]],\n",
       "\n",
       "        [[ 6.,  7.,  8.],\n",
       "         [36., 49., 64.]]])"
      ]
     },
     "execution_count": 20,
     "metadata": {},
     "output_type": "execute_result"
    }
   ],
   "source": [
    "a"
   ]
  },
  {
   "cell_type": "code",
   "execution_count": 21,
   "id": "4c68b622-8bf3-4c8e-92c3-5b4fbac18cd9",
   "metadata": {},
   "outputs": [
    {
     "data": {
      "text/plain": [
       "tensor([[ 1.,  2.,  3.,  1.,  4.,  9.],\n",
       "        [ 3.,  4.,  5.,  9., 16., 25.],\n",
       "        [ 6.,  7.,  8., 36., 49., 64.]])"
      ]
     },
     "execution_count": 21,
     "metadata": {},
     "output_type": "execute_result"
    }
   ],
   "source": [
    "p = torch.hstack((x,y))\n",
    "p"
   ]
  },
  {
   "cell_type": "code",
   "execution_count": 22,
   "id": "88bcb592-c376-4567-a073-c5bda3ac6572",
   "metadata": {},
   "outputs": [
    {
     "data": {
      "text/plain": [
       "tensor([[ 1.,  2.,  3.],\n",
       "        [ 3.,  4.,  5.],\n",
       "        [ 6.,  7.,  8.],\n",
       "        [ 1.,  4.,  9.],\n",
       "        [ 9., 16., 25.],\n",
       "        [36., 49., 64.]])"
      ]
     },
     "execution_count": 22,
     "metadata": {},
     "output_type": "execute_result"
    }
   ],
   "source": [
    "q = torch.vstack((x,y))\n",
    "q"
   ]
  },
  {
   "cell_type": "code",
   "execution_count": 23,
   "id": "e56a1c1e-b17c-4e8e-93fb-617605dda01a",
   "metadata": {},
   "outputs": [
    {
     "data": {
      "text/plain": [
       "tensor([[ 1.,  2.],\n",
       "        [ 3.,  4.],\n",
       "        [ 5.,  6.],\n",
       "        [ 1.,  4.],\n",
       "        [ 9., 16.],\n",
       "        [25., 36.]])"
      ]
     },
     "execution_count": 23,
     "metadata": {},
     "output_type": "execute_result"
    }
   ],
   "source": [
    "t1 = Tensor([[1,2],[3,4],[5,6]])\n",
    "t2 = Tensor([[1,4],[9,16],[25,36]])\n",
    "torch.vstack((t1,t2))"
   ]
  },
  {
   "cell_type": "code",
   "execution_count": 24,
   "id": "bef54c6f-5a78-431c-968f-b361e890fa23",
   "metadata": {},
   "outputs": [
    {
     "data": {
      "text/plain": [
       "tensor([[ 1.,  2.,  1.,  4.],\n",
       "        [ 3.,  4.,  9., 16.],\n",
       "        [ 5.,  6., 25., 36.]])"
      ]
     },
     "execution_count": 24,
     "metadata": {},
     "output_type": "execute_result"
    }
   ],
   "source": [
    "torch.hstack((t1,t2))"
   ]
  },
  {
   "cell_type": "code",
   "execution_count": 25,
   "id": "bb1808a1-c08c-473a-9db6-52d8b95dc6ce",
   "metadata": {},
   "outputs": [
    {
     "data": {
      "text/plain": [
       "array([[ 1,  2],\n",
       "       [ 3,  4],\n",
       "       [ 5,  6],\n",
       "       [ 1,  4],\n",
       "       [ 9, 16],\n",
       "       [25, 36]])"
      ]
     },
     "execution_count": 25,
     "metadata": {},
     "output_type": "execute_result"
    }
   ],
   "source": [
    "mat1 = Matrix([[1,2],[3,4],[5,6]])\n",
    "mat2 = Matrix([[1,4],[9,16],[25,36]])\n",
    "mat1.vstack(mat2).numpy()"
   ]
  },
  {
   "cell_type": "code",
   "execution_count": 26,
   "id": "dd77735c-bc9b-4a46-b43a-f9bc76152328",
   "metadata": {},
   "outputs": [
    {
     "data": {
      "text/plain": [
       "array([[ 1,  2],\n",
       "       [ 3,  4],\n",
       "       [ 5,  6],\n",
       "       [ 1,  4],\n",
       "       [ 9, 16],\n",
       "       [25, 36]])"
      ]
     },
     "execution_count": 26,
     "metadata": {},
     "output_type": "execute_result"
    }
   ],
   "source": [
    "mat1.vstack(mat2).numpy()"
   ]
  },
  {
   "cell_type": "code",
   "execution_count": 27,
   "id": "3df3d193-2d67-4f76-8bb4-a4e01757462b",
   "metadata": {},
   "outputs": [
    {
     "data": {
      "text/plain": [
       "array([[ 1,  2,  1,  4],\n",
       "       [ 3,  4,  9, 16],\n",
       "       [ 5,  6, 25, 36]])"
      ]
     },
     "execution_count": 27,
     "metadata": {},
     "output_type": "execute_result"
    }
   ],
   "source": [
    "mat1.hstack(mat2).numpy()"
   ]
  },
  {
   "cell_type": "code",
   "execution_count": 28,
   "id": "8c766f52-5330-4f9b-9833-6d6552c2a23e",
   "metadata": {},
   "outputs": [
    {
     "data": {
      "text/plain": [
       "3.5"
      ]
     },
     "execution_count": 28,
     "metadata": {},
     "output_type": "execute_result"
    }
   ],
   "source": [
    "mat1.mean()"
   ]
  },
  {
   "cell_type": "code",
   "execution_count": 29,
   "id": "8b9a7f34-c8ad-44ae-b22f-c0b256a99085",
   "metadata": {},
   "outputs": [],
   "source": [
    "from matrix import Matrix\n",
    "import numpy as np"
   ]
  },
  {
   "cell_type": "code",
   "execution_count": 30,
   "id": "e0e05ef3-c4ee-4ee5-9ddb-fa064f4b030b",
   "metadata": {},
   "outputs": [],
   "source": [
    "data = [[1,2,3],[4,5,6]]\n",
    "mat = Matrix(data)\n",
    "arr = np.array(data)"
   ]
  },
  {
   "cell_type": "code",
   "execution_count": 31,
   "id": "cf034cb1-7bd7-461d-8499-e350af1249be",
   "metadata": {},
   "outputs": [
    {
     "data": {
      "text/plain": [
       "array([[1, 2, 3],\n",
       "       [4, 5, 6]])"
      ]
     },
     "execution_count": 31,
     "metadata": {},
     "output_type": "execute_result"
    }
   ],
   "source": [
    "mat.numpy()"
   ]
  },
  {
   "cell_type": "code",
   "execution_count": 32,
   "id": "f97a9c63-6f19-4590-b887-e8ac59c740b7",
   "metadata": {},
   "outputs": [
    {
     "data": {
      "text/plain": [
       "array([[1, 2, 3],\n",
       "       [4, 5, 6]])"
      ]
     },
     "execution_count": 32,
     "metadata": {},
     "output_type": "execute_result"
    }
   ],
   "source": [
    "arr"
   ]
  },
  {
   "cell_type": "code",
   "execution_count": 33,
   "id": "da1e2ec4-c338-4ee7-b498-d0c65d4a1945",
   "metadata": {},
   "outputs": [
    {
     "data": {
      "text/plain": [
       "(2.9166666666666665, 2.9166666666666665)"
      ]
     },
     "execution_count": 33,
     "metadata": {},
     "output_type": "execute_result"
    }
   ],
   "source": [
    "mat.var(sample = False),arr.var() # axis = None"
   ]
  },
  {
   "cell_type": "code",
   "execution_count": 34,
   "id": "9cd85c75-5b84-43c0-b27b-03cf8003882d",
   "metadata": {},
   "outputs": [
    {
     "data": {
      "text/plain": [
       "(array([[0.66666667],\n",
       "        [0.66666667]]),\n",
       " array([0.66666667, 0.66666667]))"
      ]
     },
     "execution_count": 34,
     "metadata": {},
     "output_type": "execute_result"
    }
   ],
   "source": [
    "mat.var(axis = 1,sample = False).numpy(),arr.var(axis = 1)"
   ]
  },
  {
   "cell_type": "code",
   "execution_count": 35,
   "id": "dcdb9114-36b1-47f8-bb7c-667406aebc6e",
   "metadata": {},
   "outputs": [
    {
     "data": {
      "text/plain": [
       "(array([[2.25],\n",
       "        [2.25],\n",
       "        [2.25]]),\n",
       " array([2.25, 2.25, 2.25]))"
      ]
     },
     "execution_count": 35,
     "metadata": {},
     "output_type": "execute_result"
    }
   ],
   "source": [
    "mat.var(axis = 0,sample = False).numpy(),arr.var(axis = 0)"
   ]
  },
  {
   "cell_type": "code",
   "execution_count": 36,
   "id": "3654a819-15de-4cb0-b891-e2fbea847b50",
   "metadata": {},
   "outputs": [
    {
     "name": "stderr",
     "output_type": "stream",
     "text": [
      "d:\\fun\\matrix-py\\matrix\\__init__.py:1028: UserWarning: Warning: the 'symbol' parameter is ignored when 'axis' is None.\n",
      "  if symbol is not None: warnings.warn(\"Warning: the 'symbol' parameter is ignored when 'axis' is None.\", UserWarning)\n"
     ]
    },
    {
     "data": {
      "text/plain": [
       "3.5"
      ]
     },
     "execution_count": 36,
     "metadata": {},
     "output_type": "execute_result"
    }
   ],
   "source": [
    "mat.var(axis = None,symbol = \"A\")"
   ]
  },
  {
   "cell_type": "code",
   "execution_count": 37,
   "id": "d0529032-377b-4406-954c-d8532074f2eb",
   "metadata": {},
   "outputs": [
    {
     "name": "stdout",
     "output_type": "stream",
     "text": [
      "[[1.]\n",
      " [1.]]\n",
      "[0.81649658 0.81649658]\n"
     ]
    }
   ],
   "source": [
    "print(mat.std(axis = 1).numpy())\n",
    "print(arr.std(axis = 1))"
   ]
  },
  {
   "cell_type": "code",
   "execution_count": 38,
   "id": "7faa8048-32a1-4c55-9442-86a3c5f54bf1",
   "metadata": {},
   "outputs": [
    {
     "data": {
      "text/plain": [
       "(1.8708286933869707,\n",
       " array([[1, 2, 3],\n",
       "        [4, 5, 6]]))"
      ]
     },
     "execution_count": 38,
     "metadata": {},
     "output_type": "execute_result"
    }
   ],
   "source": [
    "mat.std(),mat.numpy()"
   ]
  },
  {
   "cell_type": "code",
   "execution_count": 39,
   "id": "18b500f8-d742-4503-9e76-e4f36f509942",
   "metadata": {},
   "outputs": [
    {
     "name": "stdout",
     "output_type": "stream",
     "text": [
      "\u001b[1;31mSignature:\u001b[0m \u001b[0mmat\u001b[0m\u001b[1;33m.\u001b[0m\u001b[0mstd\u001b[0m\u001b[1;33m(\u001b[0m\u001b[0maxis\u001b[0m\u001b[1;33m=\u001b[0m\u001b[1;32mNone\u001b[0m\u001b[1;33m,\u001b[0m \u001b[0msample\u001b[0m\u001b[1;33m=\u001b[0m\u001b[1;32mTrue\u001b[0m\u001b[1;33m,\u001b[0m \u001b[0msymbol\u001b[0m\u001b[1;33m:\u001b[0m \u001b[0mOptional\u001b[0m\u001b[1;33m[\u001b[0m\u001b[0mstr\u001b[0m\u001b[1;33m]\u001b[0m \u001b[1;33m=\u001b[0m \u001b[1;32mNone\u001b[0m\u001b[1;33m)\u001b[0m\u001b[1;33m\u001b[0m\u001b[1;33m\u001b[0m\u001b[0m\n",
      "\u001b[1;31mDocstring:\u001b[0m <no docstring>\n",
      "\u001b[1;31mFile:\u001b[0m      d:\\fun\\matrix-py\\matrix\\__init__.py\n",
      "\u001b[1;31mType:\u001b[0m      method"
     ]
    }
   ],
   "source": [
    "mat.std?"
   ]
  },
  {
   "cell_type": "code",
   "execution_count": 40,
   "id": "cf786659-0c0f-42f7-8700-c39efeff020e",
   "metadata": {},
   "outputs": [
    {
     "name": "stdout",
     "output_type": "stream",
     "text": [
      "\u001b[1;31mDocstring:\u001b[0m\n",
      "a.var(axis=None, dtype=None, out=None, ddof=0, keepdims=False, *, where=True)\n",
      "\n",
      "Returns the variance of the array elements, along given axis.\n",
      "\n",
      "Refer to `numpy.var` for full documentation.\n",
      "\n",
      "See Also\n",
      "--------\n",
      "numpy.var : equivalent function\n",
      "\u001b[1;31mType:\u001b[0m      builtin_function_or_method"
     ]
    }
   ],
   "source": [
    "arr.var?"
   ]
  },
  {
   "cell_type": "code",
   "execution_count": 1,
   "id": "3c53fdd9-ae3f-47dd-ac0a-3db53903a7c5",
   "metadata": {},
   "outputs": [],
   "source": [
    "from matrix import Matrix\n",
    "import matrix"
   ]
  },
  {
   "cell_type": "code",
   "execution_count": 3,
   "id": "2ed63a0b",
   "metadata": {},
   "outputs": [],
   "source": [
    "rand = matrix.rand((3,3),42)"
   ]
  },
  {
   "cell_type": "code",
   "execution_count": 4,
   "id": "2a57cf86",
   "metadata": {},
   "outputs": [
    {
     "data": {
      "text/plain": [
       "array([[0.05808361, 0.15599452, 0.15601864],\n",
       "       [0.37454012, 0.59865848, 0.60111501],\n",
       "       [0.73199394, 0.86617615, 0.95071431]])"
      ]
     },
     "execution_count": 4,
     "metadata": {},
     "output_type": "execute_result"
    }
   ],
   "source": [
    "rand.sort(axis=None).numpy()"
   ]
  },
  {
   "cell_type": "code",
   "execution_count": 5,
   "id": "a82bcb9d",
   "metadata": {},
   "outputs": [
    {
     "data": {
      "text/plain": [
       "array([[0.05808361, 0.15601864, 0.15599452],\n",
       "       [0.37454012, 0.86617615, 0.60111501],\n",
       "       [0.59865848, 0.95071431, 0.73199394]])"
      ]
     },
     "execution_count": 5,
     "metadata": {},
     "output_type": "execute_result"
    }
   ],
   "source": [
    "rand.sort(axis=0).numpy()"
   ]
  },
  {
   "cell_type": "code",
   "execution_count": 6,
   "id": "ee40c209",
   "metadata": {},
   "outputs": [
    {
     "data": {
      "text/plain": [
       "array([[0.37454012, 0.73199394, 0.95071431],\n",
       "       [0.15599452, 0.15601864, 0.59865848],\n",
       "       [0.05808361, 0.60111501, 0.86617615]])"
      ]
     },
     "execution_count": 6,
     "metadata": {},
     "output_type": "execute_result"
    }
   ],
   "source": [
    "rand.sort(axis=1).numpy()"
   ]
  },
  {
   "cell_type": "code",
   "execution_count": null,
   "id": "cbf024eb",
   "metadata": {},
   "outputs": [],
   "source": []
  }
 ],
 "metadata": {
  "kernelspec": {
   "display_name": "Python 3 (ipykernel)",
   "language": "python",
   "name": "python3"
  },
  "language_info": {
   "codemirror_mode": {
    "name": "ipython",
    "version": 3
   },
   "file_extension": ".py",
   "mimetype": "text/x-python",
   "name": "python",
   "nbconvert_exporter": "python",
   "pygments_lexer": "ipython3",
   "version": "3.11.8"
  }
 },
 "nbformat": 4,
 "nbformat_minor": 5
}
