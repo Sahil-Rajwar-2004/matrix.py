{
 "cells": [
  {
   "cell_type": "markdown",
   "id": "46f73037-9377-48cc-bd01-d51570aed946",
   "metadata": {},
   "source": [
    "# ***This notebook is only for testing***"
   ]
  },
  {
   "cell_type": "code",
   "execution_count": 2,
   "id": "94aca112-5eb8-47bf-aa17-5f82070c69a0",
   "metadata": {},
   "outputs": [],
   "source": [
    "from matrix import Matrix\n",
    "import time"
   ]
  },
  {
   "cell_type": "code",
   "execution_count": 6,
   "id": "cbe13af0-f3c6-4e7b-a645-627c916b7875",
   "metadata": {},
   "outputs": [],
   "source": [
    "x = Matrix([[1,2,1],[0,1,0],[2,3,4]])\n",
    "y = Matrix([[2,5],[6,7],[1,8]])"
   ]
  },
  {
   "cell_type": "code",
   "execution_count": 7,
   "id": "c7e9125b-60c1-432c-996c-cd568c010733",
   "metadata": {},
   "outputs": [],
   "source": [
    "start = time.time()\n",
    "z = x@y\n",
    "end = time.time()"
   ]
  },
  {
   "cell_type": "code",
   "execution_count": 8,
   "id": "c2ba6c2a-293f-42d6-a66d-46c1664748b6",
   "metadata": {},
   "outputs": [
    {
     "name": "stdout",
     "output_type": "stream",
     "text": [
      "7.987022399902344e-05\n"
     ]
    }
   ],
   "source": [
    "print(end - start)"
   ]
  },
  {
   "cell_type": "code",
   "execution_count": 10,
   "id": "690f102d-a731-4d78-8b12-6620b2a37f89",
   "metadata": {},
   "outputs": [
    {
     "name": "stdout",
     "output_type": "stream",
     "text": [
      "[[15 27]\n",
      " [ 6  7]\n",
      " [26 63]]\n"
     ]
    }
   ],
   "source": [
    "print(z.numpy())"
   ]
  },
  {
   "cell_type": "code",
   "execution_count": null,
   "id": "a00814ed-48e6-4406-a4f9-e95a596b9cf5",
   "metadata": {},
   "outputs": [],
   "source": []
  }
 ],
 "metadata": {
  "kernelspec": {
   "display_name": "Python 3 (ipykernel)",
   "language": "python",
   "name": "python3"
  },
  "language_info": {
   "codemirror_mode": {
    "name": "ipython",
    "version": 3
   },
   "file_extension": ".py",
   "mimetype": "text/x-python",
   "name": "python",
   "nbconvert_exporter": "python",
   "pygments_lexer": "ipython3",
   "version": "3.10.12"
  }
 },
 "nbformat": 4,
 "nbformat_minor": 5
}
