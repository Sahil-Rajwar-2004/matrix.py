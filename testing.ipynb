{
 "cells": [
  {
   "cell_type": "markdown",
   "id": "46f73037-9377-48cc-bd01-d51570aed946",
   "metadata": {},
   "source": [
    "# ***This notebook is only for testing***"
   ]
  },
  {
   "cell_type": "code",
   "execution_count": 1,
   "id": "94aca112-5eb8-47bf-aa17-5f82070c69a0",
   "metadata": {},
   "outputs": [],
   "source": [
    "from matrix import Matrix\n",
    "import time\n"
   ]
  },
  {
   "cell_type": "code",
   "execution_count": 2,
   "id": "cbe13af0-f3c6-4e7b-a645-627c916b7875",
   "metadata": {},
   "outputs": [],
   "source": [
    "x = Matrix([[1,2,1],[0,1,0],[2,3,4]])\n",
    "y = Matrix([[2,5],[6,7],[1,8]])"
   ]
  },
  {
   "cell_type": "code",
   "execution_count": 3,
   "id": "c5daff44",
   "metadata": {},
   "outputs": [
    {
     "name": "stdout",
     "output_type": "stream",
     "text": [
      "CPU times: user 25 µs, sys: 12 µs, total: 37 µs\n",
      "Wall time: 40.3 µs\n"
     ]
    }
   ],
   "source": [
    "%%time\n",
    "z = x @ y"
   ]
  },
  {
   "cell_type": "code",
   "execution_count": 4,
   "id": "690f102d-a731-4d78-8b12-6620b2a37f89",
   "metadata": {},
   "outputs": [
    {
     "name": "stdout",
     "output_type": "stream",
     "text": [
      "[[15 27]\n",
      " [ 6  7]\n",
      " [26 63]]\n"
     ]
    }
   ],
   "source": [
    "print(z.numpy())"
   ]
  },
  {
   "cell_type": "code",
   "execution_count": 5,
   "id": "a00814ed-48e6-4406-a4f9-e95a596b9cf5",
   "metadata": {},
   "outputs": [],
   "source": [
    "test = [\n",
    "  [1,2,3,0],\n",
    "  [4,5,6,1],\n",
    "  [4,5,6,1],\n",
    "  [7,8,9,2]\n",
    "]\n",
    "\n",
    "matrix = Matrix(test)"
   ]
  },
  {
   "cell_type": "code",
   "execution_count": 6,
   "id": "379922ef",
   "metadata": {},
   "outputs": [
    {
     "data": {
      "text/plain": [
       "<'Matrix' object at 0x7f32d22dbac0 size=16 shape=(4, 4) symbol=None>"
      ]
     },
     "execution_count": 6,
     "metadata": {},
     "output_type": "execute_result"
    }
   ],
   "source": [
    "matrix"
   ]
  },
  {
   "cell_type": "code",
   "execution_count": 7,
   "id": "a7f1b6a4",
   "metadata": {},
   "outputs": [
    {
     "data": {
      "text/plain": [
       "array([[5, 6, 6],\n",
       "       [5, 6, 6],\n",
       "       [8, 9, 9]])"
      ]
     },
     "execution_count": 7,
     "metadata": {},
     "output_type": "execute_result"
    }
   ],
   "source": [
    "matrix.max_pooling((2,2)).numpy()"
   ]
  },
  {
   "cell_type": "code",
   "execution_count": 8,
   "id": "19f90a2d",
   "metadata": {},
   "outputs": [
    {
     "name": "stdout",
     "output_type": "stream",
     "text": [
      "CPU times: user 15 µs, sys: 7 µs, total: 22 µs\n",
      "Wall time: 24.6 µs\n"
     ]
    },
    {
     "data": {
      "text/plain": [
       "9"
      ]
     },
     "execution_count": 8,
     "metadata": {},
     "output_type": "execute_result"
    }
   ],
   "source": [
    "%%time\n",
    "matrix.argmax()"
   ]
  },
  {
   "cell_type": "code",
   "execution_count": 9,
   "id": "ff5aaacc",
   "metadata": {},
   "outputs": [
    {
     "name": "stdout",
     "output_type": "stream",
     "text": [
      "CPU times: user 5 µs, sys: 2 µs, total: 7 µs\n",
      "Wall time: 10.7 µs\n"
     ]
    },
    {
     "data": {
      "text/plain": [
       "0"
      ]
     },
     "execution_count": 9,
     "metadata": {},
     "output_type": "execute_result"
    }
   ],
   "source": [
    "%%time\n",
    "matrix.argmin()"
   ]
  },
  {
   "cell_type": "code",
   "execution_count": 10,
   "id": "c2124383",
   "metadata": {},
   "outputs": [],
   "source": [
    "from matrix import identity"
   ]
  },
  {
   "cell_type": "code",
   "execution_count": 11,
   "id": "a3ccc6ff",
   "metadata": {},
   "outputs": [
    {
     "data": {
      "text/plain": [
       "array([[1, 0, 0],\n",
       "       [0, 1, 0],\n",
       "       [0, 0, 1]])"
      ]
     },
     "execution_count": 11,
     "metadata": {},
     "output_type": "execute_result"
    }
   ],
   "source": [
    "identity(3).numpy()"
   ]
  },
  {
   "cell_type": "code",
   "execution_count": 12,
   "id": "9b3c0e6b",
   "metadata": {},
   "outputs": [
    {
     "data": {
      "text/plain": [
       "<'Matrix' object at 0x7f32d22da380 size=16 shape=(4, 4) symbol=None>"
      ]
     },
     "execution_count": 12,
     "metadata": {},
     "output_type": "execute_result"
    }
   ],
   "source": [
    "matrix.rand_like()"
   ]
  },
  {
   "cell_type": "code",
   "execution_count": 13,
   "id": "91051a47",
   "metadata": {},
   "outputs": [
    {
     "data": {
      "text/plain": [
       "array([[0, 0, 0, 0],\n",
       "       [0, 0, 0, 0],\n",
       "       [0, 0, 0, 0],\n",
       "       [0, 0, 0, 0]])"
      ]
     },
     "execution_count": 13,
     "metadata": {},
     "output_type": "execute_result"
    }
   ],
   "source": [
    "matrix.zeros_like().numpy()"
   ]
  },
  {
   "cell_type": "code",
   "execution_count": 14,
   "id": "79aebceb",
   "metadata": {},
   "outputs": [
    {
     "data": {
      "text/plain": [
       "array([[1, 1, 1, 1],\n",
       "       [1, 1, 1, 1],\n",
       "       [1, 1, 1, 1],\n",
       "       [1, 1, 1, 1]])"
      ]
     },
     "execution_count": 14,
     "metadata": {},
     "output_type": "execute_result"
    }
   ],
   "source": [
    "matrix.ones_like().numpy()"
   ]
  },
  {
   "cell_type": "code",
   "execution_count": 15,
   "id": "1ec04b24",
   "metadata": {},
   "outputs": [],
   "source": [
    "from torch import Tensor\n",
    "import torch"
   ]
  },
  {
   "cell_type": "code",
   "execution_count": 16,
   "id": "25de0995-0785-4aac-8e71-c867fc57c0b1",
   "metadata": {},
   "outputs": [],
   "source": [
    "x = Tensor([[1,2,3],[3,4,5],[6,7,8]])\n",
    "y = Tensor([[1,4,9],[9,16,25],[36,49,64]])"
   ]
  },
  {
   "cell_type": "code",
   "execution_count": 17,
   "id": "848675ec-c4ea-408e-a475-40b561b70622",
   "metadata": {},
   "outputs": [],
   "source": [
    "z = torch.stack((x,y),dim = 0)"
   ]
  },
  {
   "cell_type": "code",
   "execution_count": 18,
   "id": "3bc2b006-7596-4bf4-bb92-4a06f03f80c7",
   "metadata": {},
   "outputs": [
    {
     "data": {
      "text/plain": [
       "tensor([[[ 1.,  2.,  3.],\n",
       "         [ 3.,  4.,  5.],\n",
       "         [ 6.,  7.,  8.]],\n",
       "\n",
       "        [[ 1.,  4.,  9.],\n",
       "         [ 9., 16., 25.],\n",
       "         [36., 49., 64.]]])"
      ]
     },
     "execution_count": 18,
     "metadata": {},
     "output_type": "execute_result"
    }
   ],
   "source": [
    "z"
   ]
  },
  {
   "cell_type": "code",
   "execution_count": 19,
   "id": "9c3a0f07-5f30-4b9f-9971-6c6da40100be",
   "metadata": {},
   "outputs": [],
   "source": [
    "a = torch.stack((x,y),dim = 1)"
   ]
  },
  {
   "cell_type": "code",
   "execution_count": 20,
   "id": "d6520d9d-3962-4a24-87fe-bfca46a3234c",
   "metadata": {},
   "outputs": [
    {
     "data": {
      "text/plain": [
       "tensor([[[ 1.,  2.,  3.],\n",
       "         [ 1.,  4.,  9.]],\n",
       "\n",
       "        [[ 3.,  4.,  5.],\n",
       "         [ 9., 16., 25.]],\n",
       "\n",
       "        [[ 6.,  7.,  8.],\n",
       "         [36., 49., 64.]]])"
      ]
     },
     "execution_count": 20,
     "metadata": {},
     "output_type": "execute_result"
    }
   ],
   "source": [
    "a"
   ]
  },
  {
   "cell_type": "code",
   "execution_count": 21,
   "id": "4c68b622-8bf3-4c8e-92c3-5b4fbac18cd9",
   "metadata": {},
   "outputs": [
    {
     "data": {
      "text/plain": [
       "tensor([[ 1.,  2.,  3.,  1.,  4.,  9.],\n",
       "        [ 3.,  4.,  5.,  9., 16., 25.],\n",
       "        [ 6.,  7.,  8., 36., 49., 64.]])"
      ]
     },
     "execution_count": 21,
     "metadata": {},
     "output_type": "execute_result"
    }
   ],
   "source": [
    "p = torch.hstack((x,y))\n",
    "p"
   ]
  },
  {
   "cell_type": "code",
   "execution_count": 22,
   "id": "88bcb592-c376-4567-a073-c5bda3ac6572",
   "metadata": {},
   "outputs": [
    {
     "data": {
      "text/plain": [
       "tensor([[ 1.,  2.,  3.],\n",
       "        [ 3.,  4.,  5.],\n",
       "        [ 6.,  7.,  8.],\n",
       "        [ 1.,  4.,  9.],\n",
       "        [ 9., 16., 25.],\n",
       "        [36., 49., 64.]])"
      ]
     },
     "execution_count": 22,
     "metadata": {},
     "output_type": "execute_result"
    }
   ],
   "source": [
    "q = torch.vstack((x,y))\n",
    "q"
   ]
  },
  {
   "cell_type": "code",
   "execution_count": 23,
   "id": "e56a1c1e-b17c-4e8e-93fb-617605dda01a",
   "metadata": {},
   "outputs": [
    {
     "data": {
      "text/plain": [
       "tensor([[ 1.,  2.],\n",
       "        [ 3.,  4.],\n",
       "        [ 5.,  6.],\n",
       "        [ 1.,  4.],\n",
       "        [ 9., 16.],\n",
       "        [25., 36.]])"
      ]
     },
     "execution_count": 23,
     "metadata": {},
     "output_type": "execute_result"
    }
   ],
   "source": [
    "t1 = Tensor([[1,2],[3,4],[5,6]])\n",
    "t2 = Tensor([[1,4],[9,16],[25,36]])\n",
    "torch.vstack((t1,t2))"
   ]
  },
  {
   "cell_type": "code",
   "execution_count": 24,
   "id": "bef54c6f-5a78-431c-968f-b361e890fa23",
   "metadata": {},
   "outputs": [
    {
     "data": {
      "text/plain": [
       "tensor([[ 1.,  2.,  1.,  4.],\n",
       "        [ 3.,  4.,  9., 16.],\n",
       "        [ 5.,  6., 25., 36.]])"
      ]
     },
     "execution_count": 24,
     "metadata": {},
     "output_type": "execute_result"
    }
   ],
   "source": [
    "torch.hstack((t1,t2))"
   ]
  },
  {
   "cell_type": "code",
   "execution_count": 25,
   "id": "bb1808a1-c08c-473a-9db6-52d8b95dc6ce",
   "metadata": {},
   "outputs": [
    {
     "data": {
      "text/plain": [
       "array([[ 1,  2],\n",
       "       [ 3,  4],\n",
       "       [ 5,  6],\n",
       "       [ 1,  4],\n",
       "       [ 9, 16],\n",
       "       [25, 36]])"
      ]
     },
     "execution_count": 25,
     "metadata": {},
     "output_type": "execute_result"
    }
   ],
   "source": [
    "mat1 = Matrix([[1,2],[3,4],[5,6]])\n",
    "mat2 = Matrix([[1,4],[9,16],[25,36]])\n",
    "mat1.vstack(mat2).numpy()"
   ]
  },
  {
   "cell_type": "code",
   "execution_count": 26,
   "id": "dd77735c-bc9b-4a46-b43a-f9bc76152328",
   "metadata": {},
   "outputs": [
    {
     "data": {
      "text/plain": [
       "array([[ 1,  2],\n",
       "       [ 3,  4],\n",
       "       [ 5,  6],\n",
       "       [ 1,  4],\n",
       "       [ 9, 16],\n",
       "       [25, 36]])"
      ]
     },
     "execution_count": 26,
     "metadata": {},
     "output_type": "execute_result"
    }
   ],
   "source": [
    "mat1.vstack(mat2).numpy()"
   ]
  },
  {
   "cell_type": "code",
   "execution_count": 27,
   "id": "3df3d193-2d67-4f76-8bb4-a4e01757462b",
   "metadata": {},
   "outputs": [
    {
     "data": {
      "text/plain": [
       "array([[ 1,  2,  1,  4],\n",
       "       [ 3,  4,  9, 16],\n",
       "       [ 5,  6, 25, 36]])"
      ]
     },
     "execution_count": 27,
     "metadata": {},
     "output_type": "execute_result"
    }
   ],
   "source": [
    "mat1.hstack(mat2).numpy()"
   ]
  },
  {
   "cell_type": "code",
   "execution_count": null,
   "id": "8c766f52-5330-4f9b-9833-6d6552c2a23e",
   "metadata": {},
   "outputs": [],
   "source": []
  }
 ],
 "metadata": {
  "kernelspec": {
   "display_name": "Python 3 (ipykernel)",
   "language": "python",
   "name": "python3"
  },
  "language_info": {
   "codemirror_mode": {
    "name": "ipython",
    "version": 3
   },
   "file_extension": ".py",
   "mimetype": "text/x-python",
   "name": "python",
   "nbconvert_exporter": "python",
   "pygments_lexer": "ipython3",
   "version": "3.11.8"
  }
 },
 "nbformat": 4,
 "nbformat_minor": 5
}
