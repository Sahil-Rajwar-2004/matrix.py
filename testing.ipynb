{
 "cells": [
  {
   "cell_type": "markdown",
   "id": "46f73037-9377-48cc-bd01-d51570aed946",
   "metadata": {},
   "source": [
    "# ***This notebook is only for testing***"
   ]
  },
  {
   "cell_type": "code",
   "execution_count": 1,
   "id": "94aca112-5eb8-47bf-aa17-5f82070c69a0",
   "metadata": {},
   "outputs": [],
   "source": [
    "from matrix import Matrix\n",
    "from torch import Tensor\n",
    "import time"
   ]
  },
  {
   "cell_type": "code",
   "execution_count": 2,
   "id": "cbe13af0-f3c6-4e7b-a645-627c916b7875",
   "metadata": {},
   "outputs": [],
   "source": [
    "x = Matrix([[1,2,1],[0,1,0],[2,3,4]])\n",
    "y = Matrix([[2,5],[6,7],[1,8]])"
   ]
  },
  {
   "cell_type": "code",
   "execution_count": 3,
   "id": "c5daff44",
   "metadata": {},
   "outputs": [
    {
     "name": "stdout",
     "output_type": "stream",
     "text": [
      "CPU times: total: 0 ns\n",
      "Wall time: 0 ns\n"
     ]
    }
   ],
   "source": [
    "%%time\n",
    "z = x @ y"
   ]
  },
  {
   "cell_type": "code",
   "execution_count": 4,
   "id": "690f102d-a731-4d78-8b12-6620b2a37f89",
   "metadata": {},
   "outputs": [
    {
     "name": "stdout",
     "output_type": "stream",
     "text": [
      "[[15 27]\n",
      " [ 6  7]\n",
      " [26 63]]\n"
     ]
    }
   ],
   "source": [
    "print(z.numpy())"
   ]
  },
  {
   "cell_type": "code",
   "execution_count": 5,
   "id": "a00814ed-48e6-4406-a4f9-e95a596b9cf5",
   "metadata": {},
   "outputs": [],
   "source": [
    "test = [\n",
    "  [1,2,3,0],\n",
    "  [4,5,6,1],\n",
    "  [4,5,6,1],\n",
    "  [7,8,9,2]\n",
    "]\n",
    "\n",
    "matrix = Matrix(test)"
   ]
  },
  {
   "cell_type": "code",
   "execution_count": 6,
   "id": "379922ef",
   "metadata": {},
   "outputs": [
    {
     "data": {
      "text/plain": [
       "<'Matrix' object at 0x25cf1d3eb50 size=16 shape=(4, 4) symbol=None>"
      ]
     },
     "execution_count": 6,
     "metadata": {},
     "output_type": "execute_result"
    }
   ],
   "source": [
    "matrix"
   ]
  },
  {
   "cell_type": "code",
   "execution_count": 7,
   "id": "a7f1b6a4",
   "metadata": {},
   "outputs": [
    {
     "data": {
      "text/plain": [
       "array([[5, 6, 6],\n",
       "       [5, 6, 6],\n",
       "       [8, 9, 9]])"
      ]
     },
     "execution_count": 7,
     "metadata": {},
     "output_type": "execute_result"
    }
   ],
   "source": [
    "matrix.max_pooling((2,2)).numpy()"
   ]
  },
  {
   "cell_type": "code",
   "execution_count": 8,
   "id": "19f90a2d",
   "metadata": {},
   "outputs": [
    {
     "name": "stdout",
     "output_type": "stream",
     "text": [
      "CPU times: total: 0 ns\n",
      "Wall time: 0 ns\n"
     ]
    },
    {
     "data": {
      "text/plain": [
       "9"
      ]
     },
     "execution_count": 8,
     "metadata": {},
     "output_type": "execute_result"
    }
   ],
   "source": [
    "%%time\n",
    "matrix.argmax()"
   ]
  },
  {
   "cell_type": "code",
   "execution_count": 9,
   "id": "ff5aaacc",
   "metadata": {},
   "outputs": [
    {
     "name": "stdout",
     "output_type": "stream",
     "text": [
      "CPU times: total: 0 ns\n",
      "Wall time: 0 ns\n"
     ]
    },
    {
     "data": {
      "text/plain": [
       "0"
      ]
     },
     "execution_count": 9,
     "metadata": {},
     "output_type": "execute_result"
    }
   ],
   "source": [
    "%%time\n",
    "matrix.argmin()"
   ]
  },
  {
   "cell_type": "code",
   "execution_count": 10,
   "id": "c2124383",
   "metadata": {},
   "outputs": [],
   "source": [
    "from matrix import identity"
   ]
  },
  {
   "cell_type": "code",
   "execution_count": 12,
   "id": "a3ccc6ff",
   "metadata": {},
   "outputs": [
    {
     "data": {
      "text/plain": [
       "array([[1, 0, 0],\n",
       "       [0, 1, 0],\n",
       "       [0, 0, 1]])"
      ]
     },
     "execution_count": 12,
     "metadata": {},
     "output_type": "execute_result"
    }
   ],
   "source": [
    "identity(3).numpy()"
   ]
  },
  {
   "cell_type": "code",
   "execution_count": null,
   "id": "9b3c0e6b",
   "metadata": {},
   "outputs": [],
   "source": []
  }
 ],
 "metadata": {
  "kernelspec": {
   "display_name": "Python 3 (ipykernel)",
   "language": "python",
   "name": "python3"
  },
  "language_info": {
   "codemirror_mode": {
    "name": "ipython",
    "version": 3
   },
   "file_extension": ".py",
   "mimetype": "text/x-python",
   "name": "python",
   "nbconvert_exporter": "python",
   "pygments_lexer": "ipython3",
   "version": "3.11.8"
  }
 },
 "nbformat": 4,
 "nbformat_minor": 5
}
