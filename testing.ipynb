{
 "cells": [
  {
   "cell_type": "markdown",
   "id": "46f73037-9377-48cc-bd01-d51570aed946",
   "metadata": {},
   "source": [
    "# ***This notebook is only for testing***"
   ]
  },
  {
   "cell_type": "code",
   "execution_count": 1,
   "id": "94aca112-5eb8-47bf-aa17-5f82070c69a0",
   "metadata": {},
   "outputs": [],
   "source": [
    "from matrix import Matrix\n",
    "import time\n"
   ]
  },
  {
   "cell_type": "code",
   "execution_count": 2,
   "id": "cbe13af0-f3c6-4e7b-a645-627c916b7875",
   "metadata": {},
   "outputs": [],
   "source": [
    "x = Matrix([[1,2,1],[0,1,0],[2,3,4]])\n",
    "y = Matrix([[2,5],[6,7],[1,8]])"
   ]
  },
  {
   "cell_type": "code",
   "execution_count": 3,
   "id": "c5daff44",
   "metadata": {},
   "outputs": [
    {
     "name": "stdout",
     "output_type": "stream",
     "text": [
      "CPU times: total: 0 ns\n",
      "Wall time: 0 ns\n"
     ]
    }
   ],
   "source": [
    "%%time\n",
    "z = x @ y"
   ]
  },
  {
   "cell_type": "code",
   "execution_count": 4,
   "id": "690f102d-a731-4d78-8b12-6620b2a37f89",
   "metadata": {},
   "outputs": [
    {
     "name": "stdout",
     "output_type": "stream",
     "text": [
      "[[15 27]\n",
      " [ 6  7]\n",
      " [26 63]]\n"
     ]
    }
   ],
   "source": [
    "print(z.numpy())"
   ]
  },
  {
   "cell_type": "code",
   "execution_count": 5,
   "id": "a00814ed-48e6-4406-a4f9-e95a596b9cf5",
   "metadata": {},
   "outputs": [],
   "source": [
    "test = [\n",
    "  [1,2,3,0],\n",
    "  [4,5,6,1],\n",
    "  [4,5,6,1],\n",
    "  [7,8,9,2]\n",
    "]\n",
    "\n",
    "matrix = Matrix(test)"
   ]
  },
  {
   "cell_type": "code",
   "execution_count": 6,
   "id": "379922ef",
   "metadata": {},
   "outputs": [
    {
     "data": {
      "text/plain": [
       "<'Matrix' object at 0x1ba2fcf86d0 size=16 shape=(4, 4) symbol=None>"
      ]
     },
     "execution_count": 6,
     "metadata": {},
     "output_type": "execute_result"
    }
   ],
   "source": [
    "matrix"
   ]
  },
  {
   "cell_type": "code",
   "execution_count": 7,
   "id": "a7f1b6a4",
   "metadata": {},
   "outputs": [
    {
     "data": {
      "text/plain": [
       "array([[5, 6, 6],\n",
       "       [5, 6, 6],\n",
       "       [8, 9, 9]])"
      ]
     },
     "execution_count": 7,
     "metadata": {},
     "output_type": "execute_result"
    }
   ],
   "source": [
    "matrix.max_pooling((2,2)).numpy()"
   ]
  },
  {
   "cell_type": "code",
   "execution_count": 8,
   "id": "19f90a2d",
   "metadata": {},
   "outputs": [
    {
     "name": "stdout",
     "output_type": "stream",
     "text": [
      "CPU times: total: 0 ns\n",
      "Wall time: 0 ns\n"
     ]
    },
    {
     "data": {
      "text/plain": [
       "9"
      ]
     },
     "execution_count": 8,
     "metadata": {},
     "output_type": "execute_result"
    }
   ],
   "source": [
    "%%time\n",
    "matrix.argmax()"
   ]
  },
  {
   "cell_type": "code",
   "execution_count": 9,
   "id": "ff5aaacc",
   "metadata": {},
   "outputs": [
    {
     "name": "stdout",
     "output_type": "stream",
     "text": [
      "CPU times: total: 0 ns\n",
      "Wall time: 0 ns\n"
     ]
    },
    {
     "data": {
      "text/plain": [
       "0"
      ]
     },
     "execution_count": 9,
     "metadata": {},
     "output_type": "execute_result"
    }
   ],
   "source": [
    "%%time\n",
    "matrix.argmin()"
   ]
  },
  {
   "cell_type": "code",
   "execution_count": 10,
   "id": "c2124383",
   "metadata": {},
   "outputs": [],
   "source": [
    "from matrix import identity"
   ]
  },
  {
   "cell_type": "code",
   "execution_count": 11,
   "id": "a3ccc6ff",
   "metadata": {},
   "outputs": [
    {
     "data": {
      "text/plain": [
       "array([[1, 0, 0],\n",
       "       [0, 1, 0],\n",
       "       [0, 0, 1]])"
      ]
     },
     "execution_count": 11,
     "metadata": {},
     "output_type": "execute_result"
    }
   ],
   "source": [
    "identity(3).numpy()"
   ]
  },
  {
   "cell_type": "code",
   "execution_count": 12,
   "id": "9b3c0e6b",
   "metadata": {},
   "outputs": [
    {
     "data": {
      "text/plain": [
       "<'Matrix' object at 0x1ba2fba1250 size=16 shape=(4, 4) symbol=None>"
      ]
     },
     "execution_count": 12,
     "metadata": {},
     "output_type": "execute_result"
    }
   ],
   "source": [
    "matrix.rand_like()"
   ]
  },
  {
   "cell_type": "code",
   "execution_count": 13,
   "id": "91051a47",
   "metadata": {},
   "outputs": [
    {
     "data": {
      "text/plain": [
       "array([[0, 0, 0, 0],\n",
       "       [0, 0, 0, 0],\n",
       "       [0, 0, 0, 0],\n",
       "       [0, 0, 0, 0]])"
      ]
     },
     "execution_count": 13,
     "metadata": {},
     "output_type": "execute_result"
    }
   ],
   "source": [
    "matrix.zeros_like().numpy()"
   ]
  },
  {
   "cell_type": "code",
   "execution_count": 14,
   "id": "79aebceb",
   "metadata": {},
   "outputs": [
    {
     "data": {
      "text/plain": [
       "array([[1, 1, 1, 1],\n",
       "       [1, 1, 1, 1],\n",
       "       [1, 1, 1, 1],\n",
       "       [1, 1, 1, 1]])"
      ]
     },
     "execution_count": 14,
     "metadata": {},
     "output_type": "execute_result"
    }
   ],
   "source": [
    "matrix.ones_like().numpy()"
   ]
  },
  {
   "cell_type": "code",
   "execution_count": 15,
   "id": "1ec04b24",
   "metadata": {},
   "outputs": [],
   "source": [
    "from torch import Tensor\n",
    "import torch"
   ]
  },
  {
   "cell_type": "code",
   "execution_count": 16,
   "id": "25de0995-0785-4aac-8e71-c867fc57c0b1",
   "metadata": {},
   "outputs": [],
   "source": [
    "x = Tensor([[1,2,3],[3,4,5],[6,7,8]])\n",
    "y = Tensor([[1,4,9],[9,16,25],[36,49,64]])"
   ]
  },
  {
   "cell_type": "code",
   "execution_count": 17,
   "id": "848675ec-c4ea-408e-a475-40b561b70622",
   "metadata": {},
   "outputs": [],
   "source": [
    "z = torch.stack((x,y),dim = 0)"
   ]
  },
  {
   "cell_type": "code",
   "execution_count": 18,
   "id": "3bc2b006-7596-4bf4-bb92-4a06f03f80c7",
   "metadata": {},
   "outputs": [
    {
     "data": {
      "text/plain": [
       "tensor([[[ 1.,  2.,  3.],\n",
       "         [ 3.,  4.,  5.],\n",
       "         [ 6.,  7.,  8.]],\n",
       "\n",
       "        [[ 1.,  4.,  9.],\n",
       "         [ 9., 16., 25.],\n",
       "         [36., 49., 64.]]])"
      ]
     },
     "execution_count": 18,
     "metadata": {},
     "output_type": "execute_result"
    }
   ],
   "source": [
    "z"
   ]
  },
  {
   "cell_type": "code",
   "execution_count": 19,
   "id": "9c3a0f07-5f30-4b9f-9971-6c6da40100be",
   "metadata": {},
   "outputs": [],
   "source": [
    "a = torch.stack((x,y),dim = 1)"
   ]
  },
  {
   "cell_type": "code",
   "execution_count": 20,
   "id": "d6520d9d-3962-4a24-87fe-bfca46a3234c",
   "metadata": {},
   "outputs": [
    {
     "data": {
      "text/plain": [
       "tensor([[[ 1.,  2.,  3.],\n",
       "         [ 1.,  4.,  9.]],\n",
       "\n",
       "        [[ 3.,  4.,  5.],\n",
       "         [ 9., 16., 25.]],\n",
       "\n",
       "        [[ 6.,  7.,  8.],\n",
       "         [36., 49., 64.]]])"
      ]
     },
     "execution_count": 20,
     "metadata": {},
     "output_type": "execute_result"
    }
   ],
   "source": [
    "a"
   ]
  },
  {
   "cell_type": "code",
   "execution_count": 21,
   "id": "4c68b622-8bf3-4c8e-92c3-5b4fbac18cd9",
   "metadata": {},
   "outputs": [
    {
     "data": {
      "text/plain": [
       "tensor([[ 1.,  2.,  3.,  1.,  4.,  9.],\n",
       "        [ 3.,  4.,  5.,  9., 16., 25.],\n",
       "        [ 6.,  7.,  8., 36., 49., 64.]])"
      ]
     },
     "execution_count": 21,
     "metadata": {},
     "output_type": "execute_result"
    }
   ],
   "source": [
    "p = torch.hstack((x,y))\n",
    "p"
   ]
  },
  {
   "cell_type": "code",
   "execution_count": 22,
   "id": "88bcb592-c376-4567-a073-c5bda3ac6572",
   "metadata": {},
   "outputs": [
    {
     "data": {
      "text/plain": [
       "tensor([[ 1.,  2.,  3.],\n",
       "        [ 3.,  4.,  5.],\n",
       "        [ 6.,  7.,  8.],\n",
       "        [ 1.,  4.,  9.],\n",
       "        [ 9., 16., 25.],\n",
       "        [36., 49., 64.]])"
      ]
     },
     "execution_count": 22,
     "metadata": {},
     "output_type": "execute_result"
    }
   ],
   "source": [
    "q = torch.vstack((x,y))\n",
    "q"
   ]
  },
  {
   "cell_type": "code",
   "execution_count": 23,
   "id": "e56a1c1e-b17c-4e8e-93fb-617605dda01a",
   "metadata": {},
   "outputs": [
    {
     "data": {
      "text/plain": [
       "tensor([[ 1.,  2.],\n",
       "        [ 3.,  4.],\n",
       "        [ 5.,  6.],\n",
       "        [ 1.,  4.],\n",
       "        [ 9., 16.],\n",
       "        [25., 36.]])"
      ]
     },
     "execution_count": 23,
     "metadata": {},
     "output_type": "execute_result"
    }
   ],
   "source": [
    "t1 = Tensor([[1,2],[3,4],[5,6]])\n",
    "t2 = Tensor([[1,4],[9,16],[25,36]])\n",
    "torch.vstack((t1,t2))"
   ]
  },
  {
   "cell_type": "code",
   "execution_count": 24,
   "id": "bef54c6f-5a78-431c-968f-b361e890fa23",
   "metadata": {},
   "outputs": [
    {
     "data": {
      "text/plain": [
       "tensor([[ 1.,  2.,  1.,  4.],\n",
       "        [ 3.,  4.,  9., 16.],\n",
       "        [ 5.,  6., 25., 36.]])"
      ]
     },
     "execution_count": 24,
     "metadata": {},
     "output_type": "execute_result"
    }
   ],
   "source": [
    "torch.hstack((t1,t2))"
   ]
  },
  {
   "cell_type": "code",
   "execution_count": 25,
   "id": "bb1808a1-c08c-473a-9db6-52d8b95dc6ce",
   "metadata": {},
   "outputs": [
    {
     "data": {
      "text/plain": [
       "array([[ 1,  2],\n",
       "       [ 3,  4],\n",
       "       [ 5,  6],\n",
       "       [ 1,  4],\n",
       "       [ 9, 16],\n",
       "       [25, 36]])"
      ]
     },
     "execution_count": 25,
     "metadata": {},
     "output_type": "execute_result"
    }
   ],
   "source": [
    "mat1 = Matrix([[1,2],[3,4],[5,6]])\n",
    "mat2 = Matrix([[1,4],[9,16],[25,36]])\n",
    "mat1.vstack(mat2).numpy()"
   ]
  },
  {
   "cell_type": "code",
   "execution_count": 26,
   "id": "dd77735c-bc9b-4a46-b43a-f9bc76152328",
   "metadata": {},
   "outputs": [
    {
     "data": {
      "text/plain": [
       "array([[ 1,  2],\n",
       "       [ 3,  4],\n",
       "       [ 5,  6],\n",
       "       [ 1,  4],\n",
       "       [ 9, 16],\n",
       "       [25, 36]])"
      ]
     },
     "execution_count": 26,
     "metadata": {},
     "output_type": "execute_result"
    }
   ],
   "source": [
    "mat1.vstack(mat2).numpy()"
   ]
  },
  {
   "cell_type": "code",
   "execution_count": 27,
   "id": "3df3d193-2d67-4f76-8bb4-a4e01757462b",
   "metadata": {},
   "outputs": [
    {
     "data": {
      "text/plain": [
       "array([[ 1,  2,  1,  4],\n",
       "       [ 3,  4,  9, 16],\n",
       "       [ 5,  6, 25, 36]])"
      ]
     },
     "execution_count": 27,
     "metadata": {},
     "output_type": "execute_result"
    }
   ],
   "source": [
    "mat1.hstack(mat2).numpy()"
   ]
  },
  {
   "cell_type": "code",
   "execution_count": 28,
   "id": "8c766f52-5330-4f9b-9833-6d6552c2a23e",
   "metadata": {},
   "outputs": [
    {
     "data": {
      "text/plain": [
       "3.5"
      ]
     },
     "execution_count": 28,
     "metadata": {},
     "output_type": "execute_result"
    }
   ],
   "source": [
    "mat1.mean()"
   ]
  },
  {
   "cell_type": "code",
   "execution_count": 29,
   "id": "8b9a7f34-c8ad-44ae-b22f-c0b256a99085",
   "metadata": {},
   "outputs": [],
   "source": [
    "from matrix import Matrix\n",
    "import numpy as np"
   ]
  },
  {
   "cell_type": "code",
   "execution_count": 30,
   "id": "e0e05ef3-c4ee-4ee5-9ddb-fa064f4b030b",
   "metadata": {},
   "outputs": [],
   "source": [
    "data = [[1,2,3],[4,5,6]]\n",
    "mat = Matrix(data)\n",
    "arr = np.array(data)"
   ]
  },
  {
   "cell_type": "code",
   "execution_count": 31,
   "id": "cf034cb1-7bd7-461d-8499-e350af1249be",
   "metadata": {},
   "outputs": [
    {
     "data": {
      "text/plain": [
       "array([[1, 2, 3],\n",
       "       [4, 5, 6]])"
      ]
     },
     "execution_count": 31,
     "metadata": {},
     "output_type": "execute_result"
    }
   ],
   "source": [
    "mat.numpy()"
   ]
  },
  {
   "cell_type": "code",
   "execution_count": 32,
   "id": "f97a9c63-6f19-4590-b887-e8ac59c740b7",
   "metadata": {},
   "outputs": [
    {
     "data": {
      "text/plain": [
       "array([[1, 2, 3],\n",
       "       [4, 5, 6]])"
      ]
     },
     "execution_count": 32,
     "metadata": {},
     "output_type": "execute_result"
    }
   ],
   "source": [
    "arr"
   ]
  },
  {
   "cell_type": "code",
   "execution_count": 33,
   "id": "da1e2ec4-c338-4ee7-b498-d0c65d4a1945",
   "metadata": {},
   "outputs": [
    {
     "data": {
      "text/plain": [
       "(2.9166666666666665, 2.9166666666666665)"
      ]
     },
     "execution_count": 33,
     "metadata": {},
     "output_type": "execute_result"
    }
   ],
   "source": [
    "mat.var(sample = False),arr.var() # axis = None"
   ]
  },
  {
   "cell_type": "code",
   "execution_count": 34,
   "id": "9cd85c75-5b84-43c0-b27b-03cf8003882d",
   "metadata": {},
   "outputs": [
    {
     "data": {
      "text/plain": [
       "(array([[0.66666667],\n",
       "        [0.66666667]]),\n",
       " array([0.66666667, 0.66666667]))"
      ]
     },
     "execution_count": 34,
     "metadata": {},
     "output_type": "execute_result"
    }
   ],
   "source": [
    "mat.var(axis = 1,sample = False).numpy(),arr.var(axis = 1)"
   ]
  },
  {
   "cell_type": "code",
   "execution_count": 35,
   "id": "dcdb9114-36b1-47f8-bb7c-667406aebc6e",
   "metadata": {},
   "outputs": [
    {
     "data": {
      "text/plain": [
       "(array([[2.25],\n",
       "        [2.25],\n",
       "        [2.25]]),\n",
       " array([2.25, 2.25, 2.25]))"
      ]
     },
     "execution_count": 35,
     "metadata": {},
     "output_type": "execute_result"
    }
   ],
   "source": [
    "mat.var(axis = 0,sample = False).numpy(),arr.var(axis = 0)"
   ]
  },
  {
   "cell_type": "code",
   "execution_count": 36,
   "id": "3654a819-15de-4cb0-b891-e2fbea847b50",
   "metadata": {},
   "outputs": [
    {
     "name": "stderr",
     "output_type": "stream",
     "text": [
      "d:\\fun\\matrix-py\\matrix\\__init__.py:1028: UserWarning: Warning: the 'symbol' parameter is ignored when 'axis' is None.\n",
      "  if symbol is not None: warnings.warn(\"Warning: the 'symbol' parameter is ignored when 'axis' is None.\", UserWarning)\n"
     ]
    },
    {
     "data": {
      "text/plain": [
       "3.5"
      ]
     },
     "execution_count": 36,
     "metadata": {},
     "output_type": "execute_result"
    }
   ],
   "source": [
    "mat.var(axis = None,symbol = \"A\")"
   ]
  },
  {
   "cell_type": "code",
   "execution_count": 37,
   "id": "d0529032-377b-4406-954c-d8532074f2eb",
   "metadata": {},
   "outputs": [
    {
     "name": "stdout",
     "output_type": "stream",
     "text": [
      "[[1.]\n",
      " [1.]]\n",
      "[0.81649658 0.81649658]\n"
     ]
    }
   ],
   "source": [
    "print(mat.std(axis = 1).numpy())\n",
    "print(arr.std(axis = 1))"
   ]
  },
  {
   "cell_type": "code",
   "execution_count": 38,
   "id": "7faa8048-32a1-4c55-9442-86a3c5f54bf1",
   "metadata": {},
   "outputs": [
    {
     "data": {
      "text/plain": [
       "(1.8708286933869707,\n",
       " array([[1, 2, 3],\n",
       "        [4, 5, 6]]))"
      ]
     },
     "execution_count": 38,
     "metadata": {},
     "output_type": "execute_result"
    }
   ],
   "source": [
    "mat.std(),mat.numpy()"
   ]
  },
  {
   "cell_type": "code",
   "execution_count": 39,
   "id": "18b500f8-d742-4503-9e76-e4f36f509942",
   "metadata": {},
   "outputs": [
    {
     "name": "stdout",
     "output_type": "stream",
     "text": [
      "\u001b[1;31mSignature:\u001b[0m \u001b[0mmat\u001b[0m\u001b[1;33m.\u001b[0m\u001b[0mstd\u001b[0m\u001b[1;33m(\u001b[0m\u001b[0maxis\u001b[0m\u001b[1;33m=\u001b[0m\u001b[1;32mNone\u001b[0m\u001b[1;33m,\u001b[0m \u001b[0msample\u001b[0m\u001b[1;33m=\u001b[0m\u001b[1;32mTrue\u001b[0m\u001b[1;33m,\u001b[0m \u001b[0msymbol\u001b[0m\u001b[1;33m:\u001b[0m \u001b[0mOptional\u001b[0m\u001b[1;33m[\u001b[0m\u001b[0mstr\u001b[0m\u001b[1;33m]\u001b[0m \u001b[1;33m=\u001b[0m \u001b[1;32mNone\u001b[0m\u001b[1;33m)\u001b[0m\u001b[1;33m\u001b[0m\u001b[1;33m\u001b[0m\u001b[0m\n",
      "\u001b[1;31mDocstring:\u001b[0m <no docstring>\n",
      "\u001b[1;31mFile:\u001b[0m      d:\\fun\\matrix-py\\matrix\\__init__.py\n",
      "\u001b[1;31mType:\u001b[0m      method"
     ]
    }
   ],
   "source": [
    "mat.std?"
   ]
  },
  {
   "cell_type": "code",
   "execution_count": 40,
   "id": "cf786659-0c0f-42f7-8700-c39efeff020e",
   "metadata": {},
   "outputs": [
    {
     "name": "stdout",
     "output_type": "stream",
     "text": [
      "\u001b[1;31mDocstring:\u001b[0m\n",
      "a.var(axis=None, dtype=None, out=None, ddof=0, keepdims=False, *, where=True)\n",
      "\n",
      "Returns the variance of the array elements, along given axis.\n",
      "\n",
      "Refer to `numpy.var` for full documentation.\n",
      "\n",
      "See Also\n",
      "--------\n",
      "numpy.var : equivalent function\n",
      "\u001b[1;31mType:\u001b[0m      builtin_function_or_method"
     ]
    }
   ],
   "source": [
    "arr.var?"
   ]
  },
  {
   "cell_type": "code",
   "execution_count": 18,
   "id": "3c53fdd9-ae3f-47dd-ac0a-3db53903a7c5",
   "metadata": {},
   "outputs": [],
   "source": [
    "from matrix import Matrix\n",
    "import matrix"
   ]
  },
  {
   "cell_type": "code",
   "execution_count": 19,
   "id": "2ed63a0b",
   "metadata": {},
   "outputs": [],
   "source": [
    "rand = matrix.rand((3,3),42)"
   ]
  },
  {
   "cell_type": "code",
   "execution_count": 20,
   "id": "2a57cf86",
   "metadata": {},
   "outputs": [
    {
     "data": {
      "text/plain": [
       "array([[0.05808361, 0.15599452, 0.15601864],\n",
       "       [0.37454012, 0.59865848, 0.60111501],\n",
       "       [0.73199394, 0.86617615, 0.95071431]])"
      ]
     },
     "execution_count": 20,
     "metadata": {},
     "output_type": "execute_result"
    }
   ],
   "source": [
    "rand.sort(axis=None).numpy()"
   ]
  },
  {
   "cell_type": "code",
   "execution_count": 21,
   "id": "a82bcb9d",
   "metadata": {},
   "outputs": [
    {
     "data": {
      "text/plain": [
       "array([[0.05808361, 0.15601864, 0.15599452],\n",
       "       [0.37454012, 0.86617615, 0.60111501],\n",
       "       [0.59865848, 0.95071431, 0.73199394]])"
      ]
     },
     "execution_count": 21,
     "metadata": {},
     "output_type": "execute_result"
    }
   ],
   "source": [
    "rand.sort(axis=0).numpy()"
   ]
  },
  {
   "cell_type": "code",
   "execution_count": 22,
   "id": "ee40c209",
   "metadata": {},
   "outputs": [
    {
     "data": {
      "text/plain": [
       "array([[0.37454012, 0.73199394, 0.95071431],\n",
       "       [0.15599452, 0.15601864, 0.59865848],\n",
       "       [0.05808361, 0.60111501, 0.86617615]])"
      ]
     },
     "execution_count": 22,
     "metadata": {},
     "output_type": "execute_result"
    }
   ],
   "source": [
    "rand.sort(axis=1).numpy()"
   ]
  },
  {
   "cell_type": "code",
   "execution_count": 23,
   "id": "cbf024eb",
   "metadata": {},
   "outputs": [
    {
     "data": {
      "text/plain": [
       "array([[1, 2, 3, 4, 5]])"
      ]
     },
     "execution_count": 23,
     "metadata": {},
     "output_type": "execute_result"
    }
   ],
   "source": [
    "r = Matrix([[1,2,3,4,5]])\n",
    "r.numpy()"
   ]
  },
  {
   "cell_type": "code",
   "execution_count": 24,
   "id": "dd1721e9-cb40-4295-a2c3-72e9799f15db",
   "metadata": {},
   "outputs": [
    {
     "data": {
      "text/plain": [
       "True"
      ]
     },
     "execution_count": 24,
     "metadata": {},
     "output_type": "execute_result"
    }
   ],
   "source": [
    "r.is_row()"
   ]
  },
  {
   "cell_type": "code",
   "execution_count": 25,
   "id": "4de57615-2e69-4e22-8766-ccb665492927",
   "metadata": {},
   "outputs": [
    {
     "data": {
      "text/plain": [
       "5"
      ]
     },
     "execution_count": 25,
     "metadata": {},
     "output_type": "execute_result"
    }
   ],
   "source": [
    "r.col"
   ]
  },
  {
   "cell_type": "code",
   "execution_count": 26,
   "id": "a83eaf48-21fc-41a6-bbeb-61c114747f44",
   "metadata": {},
   "outputs": [
    {
     "data": {
      "text/plain": [
       "False"
      ]
     },
     "execution_count": 26,
     "metadata": {},
     "output_type": "execute_result"
    }
   ],
   "source": [
    "r.is_col()"
   ]
  },
  {
   "cell_type": "code",
   "execution_count": 27,
   "id": "bc52689c-d389-42d5-a7f3-62f1d51867c2",
   "metadata": {},
   "outputs": [
    {
     "data": {
      "text/plain": [
       "array([[1, 2, 3, 4, 5, 6, 7, 8, 9]])"
      ]
     },
     "execution_count": 27,
     "metadata": {},
     "output_type": "execute_result"
    }
   ],
   "source": [
    "matrix.arange(1,10).numpy()"
   ]
  },
  {
   "cell_type": "code",
   "execution_count": 28,
   "id": "afe74bf4-b021-4c09-ac08-c7bc4a308553",
   "metadata": {},
   "outputs": [
    {
     "data": {
      "text/plain": [
       "array([[1, 2, 3, 4, 5, 6, 7, 8, 9]])"
      ]
     },
     "execution_count": 28,
     "metadata": {},
     "output_type": "execute_result"
    }
   ],
   "source": [
    "matrix.arange(1,10,step = 1).numpy()"
   ]
  },
  {
   "cell_type": "code",
   "execution_count": 29,
   "id": "32b2a856-5800-4fb2-b554-e55631cb3e0e",
   "metadata": {},
   "outputs": [
    {
     "data": {
      "text/plain": [
       "array([[ 0. ,  2.5,  5. ,  7.5, 10. ]])"
      ]
     },
     "execution_count": 29,
     "metadata": {},
     "output_type": "execute_result"
    }
   ],
   "source": [
    "matrix.linspace(0,10,5,True).numpy()"
   ]
  },
  {
   "cell_type": "code",
   "execution_count": 30,
   "id": "294b9d69-4b48-4ad1-9d88-5b1eff9d822d",
   "metadata": {},
   "outputs": [
    {
     "data": {
      "text/plain": [
       "array([[ 0. ],\n",
       "       [ 2.5],\n",
       "       [ 5. ],\n",
       "       [ 7.5],\n",
       "       [10. ]])"
      ]
     },
     "execution_count": 30,
     "metadata": {},
     "output_type": "execute_result"
    }
   ],
   "source": [
    "matrix.linspace(0,10,5,True,shape = (5,1)).numpy()"
   ]
  },
  {
   "cell_type": "code",
   "execution_count": 31,
   "id": "2c325816-3216-4073-855e-16934ad16f60",
   "metadata": {},
   "outputs": [
    {
     "ename": "KeyError",
     "evalue": "\"'A' already exists! try with different symbol\"",
     "output_type": "error",
     "traceback": [
      "\u001b[0;31m---------------------------------------------------------------------------\u001b[0m",
      "\u001b[0;31mKeyError\u001b[0m                                  Traceback (most recent call last)",
      "\u001b[0;32m/tmp/ipykernel_13030/3415928556.py\u001b[0m in \u001b[0;36m<module>\u001b[0;34m\u001b[0m\n\u001b[0;32m----> 1\u001b[0;31m \u001b[0mmatrix\u001b[0m\u001b[0;34m.\u001b[0m\u001b[0mlinspace\u001b[0m\u001b[0;34m(\u001b[0m\u001b[0;36m0\u001b[0m\u001b[0;34m,\u001b[0m\u001b[0;36m10\u001b[0m\u001b[0;34m,\u001b[0m\u001b[0;36m5\u001b[0m\u001b[0;34m,\u001b[0m\u001b[0;32mTrue\u001b[0m\u001b[0;34m,\u001b[0m\u001b[0mshape\u001b[0m \u001b[0;34m=\u001b[0m \u001b[0;34m(\u001b[0m\u001b[0;36m5\u001b[0m\u001b[0;34m,\u001b[0m\u001b[0;36m1\u001b[0m\u001b[0;34m)\u001b[0m\u001b[0;34m,\u001b[0m\u001b[0msymbol\u001b[0m \u001b[0;34m=\u001b[0m \u001b[0;34m\"A\"\u001b[0m\u001b[0;34m)\u001b[0m\u001b[0;34m\u001b[0m\u001b[0;34m\u001b[0m\u001b[0m\n\u001b[0m",
      "\u001b[0;32m/mnt/d/fun/matrix-py/matrix/__init__.py\u001b[0m in \u001b[0;36mlinspace\u001b[0;34m(start, stop, num, endpoint, shape, symbol)\u001b[0m\n\u001b[1;32m    113\u001b[0m     \u001b[0;32mif\u001b[0m \u001b[0;32mnot\u001b[0m \u001b[0mendpoint\u001b[0m\u001b[0;34m:\u001b[0m \u001b[0mlinspace_values\u001b[0m \u001b[0;34m=\u001b[0m \u001b[0mlinspace_values\u001b[0m\u001b[0;34m[\u001b[0m\u001b[0;34m:\u001b[0m\u001b[0;34m-\u001b[0m\u001b[0;36m1\u001b[0m\u001b[0;34m]\u001b[0m\u001b[0;34m\u001b[0m\u001b[0;34m\u001b[0m\u001b[0m\n\u001b[1;32m    114\u001b[0m     \u001b[0;32mif\u001b[0m \u001b[0mshape\u001b[0m \u001b[0;32mis\u001b[0m \u001b[0;32mNone\u001b[0m\u001b[0;34m:\u001b[0m \u001b[0;32mreturn\u001b[0m \u001b[0mMatrix\u001b[0m\u001b[0;34m(\u001b[0m\u001b[0;34m[\u001b[0m\u001b[0mlinspace_values\u001b[0m\u001b[0;34m]\u001b[0m\u001b[0;34m,\u001b[0m\u001b[0msymbol\u001b[0m\u001b[0;34m)\u001b[0m\u001b[0;34m\u001b[0m\u001b[0;34m\u001b[0m\u001b[0m\n\u001b[0;32m--> 115\u001b[0;31m     \u001b[0;32mreturn\u001b[0m \u001b[0mMatrix\u001b[0m\u001b[0;34m(\u001b[0m\u001b[0;34m[\u001b[0m\u001b[0mlinspace_values\u001b[0m\u001b[0;34m]\u001b[0m\u001b[0;34m,\u001b[0m\u001b[0msymbol\u001b[0m\u001b[0;34m)\u001b[0m\u001b[0;34m.\u001b[0m\u001b[0mreshape\u001b[0m\u001b[0;34m(\u001b[0m\u001b[0mshape\u001b[0m\u001b[0;34m)\u001b[0m\u001b[0;34m\u001b[0m\u001b[0;34m\u001b[0m\u001b[0m\n\u001b[0m\u001b[1;32m    116\u001b[0m \u001b[0;34m\u001b[0m\u001b[0m\n\u001b[1;32m    117\u001b[0m \u001b[0;32mdef\u001b[0m \u001b[0m__fill\u001b[0m\u001b[0;34m(\u001b[0m\u001b[0mshape\u001b[0m\u001b[0;34m:\u001b[0m\u001b[0mTuple\u001b[0m\u001b[0;34m[\u001b[0m\u001b[0mint\u001b[0m\u001b[0;34m,\u001b[0m\u001b[0mint\u001b[0m\u001b[0;34m]\u001b[0m\u001b[0;34m,\u001b[0m \u001b[0mvalue\u001b[0m\u001b[0;34m:\u001b[0m\u001b[0mUnion\u001b[0m\u001b[0;34m[\u001b[0m\u001b[0mint\u001b[0m\u001b[0;34m,\u001b[0m\u001b[0mfloat\u001b[0m\u001b[0;34m,\u001b[0m\u001b[0mbool\u001b[0m\u001b[0;34m]\u001b[0m\u001b[0;34m,\u001b[0m \u001b[0msymbol\u001b[0m\u001b[0;34m:\u001b[0m\u001b[0mOptional\u001b[0m\u001b[0;34m[\u001b[0m\u001b[0mstr\u001b[0m\u001b[0;34m]\u001b[0m\u001b[0;34m=\u001b[0m\u001b[0;32mNone\u001b[0m\u001b[0;34m)\u001b[0m\u001b[0;34m:\u001b[0m\u001b[0;34m\u001b[0m\u001b[0;34m\u001b[0m\u001b[0m\n",
      "\u001b[0;32m/mnt/d/fun/matrix-py/matrix/__init__.py\u001b[0m in \u001b[0;36m__init__\u001b[0;34m(self, array_2d, symbol)\u001b[0m\n\u001b[1;32m    193\u001b[0m \u001b[0;32mclass\u001b[0m \u001b[0mMatrix\u001b[0m\u001b[0;34m:\u001b[0m\u001b[0;34m\u001b[0m\u001b[0;34m\u001b[0m\u001b[0m\n\u001b[1;32m    194\u001b[0m     \u001b[0;32mdef\u001b[0m \u001b[0m__init__\u001b[0m\u001b[0;34m(\u001b[0m\u001b[0mself\u001b[0m\u001b[0;34m,\u001b[0m \u001b[0marray_2d\u001b[0m\u001b[0;34m:\u001b[0m\u001b[0mList\u001b[0m\u001b[0;34m[\u001b[0m\u001b[0mList\u001b[0m\u001b[0;34m[\u001b[0m\u001b[0mUnion\u001b[0m\u001b[0;34m[\u001b[0m\u001b[0mint\u001b[0m\u001b[0;34m,\u001b[0m\u001b[0mfloat\u001b[0m\u001b[0;34m]\u001b[0m\u001b[0;34m]\u001b[0m\u001b[0;34m]\u001b[0m\u001b[0;34m,\u001b[0m \u001b[0msymbol\u001b[0m\u001b[0;34m:\u001b[0m\u001b[0mOptional\u001b[0m\u001b[0;34m[\u001b[0m\u001b[0mstr\u001b[0m\u001b[0;34m]\u001b[0m\u001b[0;34m=\u001b[0m\u001b[0;32mNone\u001b[0m\u001b[0;34m)\u001b[0m\u001b[0;34m:\u001b[0m\u001b[0;34m\u001b[0m\u001b[0;34m\u001b[0m\u001b[0m\n\u001b[0;32m--> 195\u001b[0;31m         \u001b[0mself\u001b[0m\u001b[0;34m.\u001b[0m\u001b[0m__check__\u001b[0m\u001b[0;34m(\u001b[0m\u001b[0marray_2d\u001b[0m\u001b[0;34m,\u001b[0m\u001b[0msymbol\u001b[0m\u001b[0;34m)\u001b[0m\u001b[0;34m\u001b[0m\u001b[0;34m\u001b[0m\u001b[0m\n\u001b[0m\u001b[1;32m    196\u001b[0m         \u001b[0mself\u001b[0m\u001b[0;34m.\u001b[0m\u001b[0m__matrix\u001b[0m \u001b[0;34m=\u001b[0m \u001b[0marray_2d\u001b[0m\u001b[0;34m\u001b[0m\u001b[0;34m\u001b[0m\u001b[0m\n\u001b[1;32m    197\u001b[0m         \u001b[0mself\u001b[0m\u001b[0;34m.\u001b[0m\u001b[0m__symbol\u001b[0m \u001b[0;34m=\u001b[0m \u001b[0msymbol\u001b[0m\u001b[0;34m\u001b[0m\u001b[0;34m\u001b[0m\u001b[0m\n",
      "\u001b[0;32m/mnt/d/fun/matrix-py/matrix/__init__.py\u001b[0m in \u001b[0;36m__check__\u001b[0;34m(self, array_2d, symbol)\u001b[0m\n\u001b[1;32m    216\u001b[0m         \u001b[0;32mif\u001b[0m \u001b[0msymbol\u001b[0m \u001b[0;32mis\u001b[0m \u001b[0;32mnot\u001b[0m \u001b[0;32mNone\u001b[0m\u001b[0;34m:\u001b[0m\u001b[0;34m\u001b[0m\u001b[0;34m\u001b[0m\u001b[0m\n\u001b[1;32m    217\u001b[0m             \u001b[0;32mif\u001b[0m \u001b[0;32mnot\u001b[0m \u001b[0misinstance\u001b[0m\u001b[0;34m(\u001b[0m\u001b[0msymbol\u001b[0m\u001b[0;34m,\u001b[0m\u001b[0mstr\u001b[0m\u001b[0;34m)\u001b[0m\u001b[0;34m:\u001b[0m \u001b[0;32mraise\u001b[0m \u001b[0mValueError\u001b[0m\u001b[0;34m(\u001b[0m\u001b[0;34mf\"symbol must be a string or None, not '{type(symbol).__name__}'\"\u001b[0m\u001b[0;34m)\u001b[0m\u001b[0;34m\u001b[0m\u001b[0;34m\u001b[0m\u001b[0m\n\u001b[0;32m--> 218\u001b[0;31m             \u001b[0;32mif\u001b[0m \u001b[0msymbol\u001b[0m \u001b[0;32min\u001b[0m \u001b[0m__mem__\u001b[0m\u001b[0;34m:\u001b[0m \u001b[0;32mraise\u001b[0m \u001b[0mKeyError\u001b[0m\u001b[0;34m(\u001b[0m\u001b[0;34mf\"'{symbol}' already exists! try with different symbol\"\u001b[0m\u001b[0;34m)\u001b[0m\u001b[0;34m\u001b[0m\u001b[0;34m\u001b[0m\u001b[0m\n\u001b[0m\u001b[1;32m    219\u001b[0m \u001b[0;34m\u001b[0m\u001b[0m\n\u001b[1;32m    220\u001b[0m     \u001b[0;32mdef\u001b[0m \u001b[0m__iter__\u001b[0m\u001b[0;34m(\u001b[0m\u001b[0mself\u001b[0m\u001b[0;34m)\u001b[0m\u001b[0;34m:\u001b[0m\u001b[0;34m\u001b[0m\u001b[0;34m\u001b[0m\u001b[0m\n",
      "\u001b[0;31mKeyError\u001b[0m: \"'A' already exists! try with different symbol\""
     ]
    }
   ],
   "source": [
    "matrix.linspace(0,10,5,True,shape = (5,1),symbol = \"A\")"
   ]
  },
  {
   "cell_type": "code",
   "execution_count": 17,
   "id": "512a9984-e01d-4a97-b7e5-d1461e7cc303",
   "metadata": {},
   "outputs": [
    {
     "data": {
      "text/plain": [
       "\"A = <'Matrix' object at 0x7efdf59c3040 size=5 shape=(1, 5) symbol=A>\\n\""
      ]
     },
     "execution_count": 17,
     "metadata": {},
     "output_type": "execute_result"
    }
   ],
   "source": [
    "matrix.mem()"
   ]
  },
  {
   "cell_type": "code",
   "execution_count": 15,
   "id": "cd85c0f6-65ef-4381-bb04-f46eb60b157f",
   "metadata": {},
   "outputs": [
    {
     "ename": "KeyError",
     "evalue": "\"'A' already exists! try with different symbol\"",
     "output_type": "error",
     "traceback": [
      "\u001b[0;31m---------------------------------------------------------------------------\u001b[0m",
      "\u001b[0;31mKeyError\u001b[0m                                  Traceback (most recent call last)",
      "\u001b[0;32m/tmp/ipykernel_3042/2617797431.py\u001b[0m in \u001b[0;36m<module>\u001b[0;34m\u001b[0m\n\u001b[0;32m----> 1\u001b[0;31m \u001b[0mmatrix\u001b[0m\u001b[0;34m.\u001b[0m\u001b[0mlinspace\u001b[0m\u001b[0;34m(\u001b[0m\u001b[0;36m0\u001b[0m\u001b[0;34m,\u001b[0m\u001b[0;36m10\u001b[0m\u001b[0;34m,\u001b[0m\u001b[0;36m5\u001b[0m\u001b[0;34m,\u001b[0m\u001b[0;32mTrue\u001b[0m\u001b[0;34m,\u001b[0m\u001b[0msymbol\u001b[0m \u001b[0;34m=\u001b[0m \u001b[0;34m\"A\"\u001b[0m\u001b[0;34m)\u001b[0m\u001b[0;34m\u001b[0m\u001b[0;34m\u001b[0m\u001b[0m\n\u001b[0m",
      "\u001b[0;32m/mnt/d/fun/matrix-py/matrix/__init__.py\u001b[0m in \u001b[0;36mlinspace\u001b[0;34m(start, stop, num, endpoint, dim, symbol)\u001b[0m\n\u001b[1;32m    112\u001b[0m     \u001b[0mlinspace_values\u001b[0m \u001b[0;34m=\u001b[0m \u001b[0;34m[\u001b[0m\u001b[0mstart\u001b[0m \u001b[0;34m+\u001b[0m \u001b[0mstep\u001b[0m \u001b[0;34m*\u001b[0m \u001b[0mi\u001b[0m \u001b[0;32mfor\u001b[0m \u001b[0mi\u001b[0m \u001b[0;32min\u001b[0m \u001b[0mrange\u001b[0m\u001b[0;34m(\u001b[0m\u001b[0mnum\u001b[0m\u001b[0;34m)\u001b[0m\u001b[0;34m]\u001b[0m\u001b[0;34m\u001b[0m\u001b[0;34m\u001b[0m\u001b[0m\n\u001b[1;32m    113\u001b[0m     \u001b[0;32mif\u001b[0m \u001b[0;32mnot\u001b[0m \u001b[0mendpoint\u001b[0m\u001b[0;34m:\u001b[0m \u001b[0mlinspace_values\u001b[0m \u001b[0;34m=\u001b[0m \u001b[0mlinspace_values\u001b[0m\u001b[0;34m[\u001b[0m\u001b[0;34m:\u001b[0m\u001b[0;34m-\u001b[0m\u001b[0;36m1\u001b[0m\u001b[0;34m]\u001b[0m\u001b[0;34m\u001b[0m\u001b[0;34m\u001b[0m\u001b[0m\n\u001b[0;32m--> 114\u001b[0;31m     \u001b[0;32mif\u001b[0m \u001b[0mdim\u001b[0m \u001b[0;32mis\u001b[0m \u001b[0;32mNone\u001b[0m\u001b[0;34m:\u001b[0m \u001b[0;32mreturn\u001b[0m \u001b[0mMatrix\u001b[0m\u001b[0;34m(\u001b[0m\u001b[0;34m[\u001b[0m\u001b[0mlinspace_values\u001b[0m\u001b[0;34m]\u001b[0m\u001b[0;34m,\u001b[0m\u001b[0msymbol\u001b[0m\u001b[0;34m)\u001b[0m\u001b[0;34m\u001b[0m\u001b[0;34m\u001b[0m\u001b[0m\n\u001b[0m\u001b[1;32m    115\u001b[0m     \u001b[0;32mreturn\u001b[0m \u001b[0mMatrix\u001b[0m\u001b[0;34m(\u001b[0m\u001b[0;34m[\u001b[0m\u001b[0mlinspace_values\u001b[0m\u001b[0;34m]\u001b[0m\u001b[0;34m,\u001b[0m\u001b[0msymbol\u001b[0m\u001b[0;34m)\u001b[0m\u001b[0;34m.\u001b[0m\u001b[0mreshape\u001b[0m\u001b[0;34m(\u001b[0m\u001b[0mdim\u001b[0m\u001b[0;34m)\u001b[0m\u001b[0;34m\u001b[0m\u001b[0;34m\u001b[0m\u001b[0m\n\u001b[1;32m    116\u001b[0m \u001b[0;34m\u001b[0m\u001b[0m\n",
      "\u001b[0;32m/mnt/d/fun/matrix-py/matrix/__init__.py\u001b[0m in \u001b[0;36m__init__\u001b[0;34m(self, array_2d, symbol)\u001b[0m\n\u001b[1;32m    193\u001b[0m \u001b[0;32mclass\u001b[0m \u001b[0mMatrix\u001b[0m\u001b[0;34m:\u001b[0m\u001b[0;34m\u001b[0m\u001b[0;34m\u001b[0m\u001b[0m\n\u001b[1;32m    194\u001b[0m     \u001b[0;32mdef\u001b[0m \u001b[0m__init__\u001b[0m\u001b[0;34m(\u001b[0m\u001b[0mself\u001b[0m\u001b[0;34m,\u001b[0m \u001b[0marray_2d\u001b[0m\u001b[0;34m:\u001b[0m\u001b[0mList\u001b[0m\u001b[0;34m[\u001b[0m\u001b[0mList\u001b[0m\u001b[0;34m[\u001b[0m\u001b[0mUnion\u001b[0m\u001b[0;34m[\u001b[0m\u001b[0mint\u001b[0m\u001b[0;34m,\u001b[0m\u001b[0mfloat\u001b[0m\u001b[0;34m]\u001b[0m\u001b[0;34m]\u001b[0m\u001b[0;34m]\u001b[0m\u001b[0;34m,\u001b[0m \u001b[0msymbol\u001b[0m\u001b[0;34m:\u001b[0m\u001b[0mOptional\u001b[0m\u001b[0;34m[\u001b[0m\u001b[0mstr\u001b[0m\u001b[0;34m]\u001b[0m\u001b[0;34m=\u001b[0m\u001b[0;32mNone\u001b[0m\u001b[0;34m)\u001b[0m\u001b[0;34m:\u001b[0m\u001b[0;34m\u001b[0m\u001b[0;34m\u001b[0m\u001b[0m\n\u001b[0;32m--> 195\u001b[0;31m         \u001b[0mself\u001b[0m\u001b[0;34m.\u001b[0m\u001b[0m__check__\u001b[0m\u001b[0;34m(\u001b[0m\u001b[0marray_2d\u001b[0m\u001b[0;34m,\u001b[0m\u001b[0msymbol\u001b[0m\u001b[0;34m)\u001b[0m\u001b[0;34m\u001b[0m\u001b[0;34m\u001b[0m\u001b[0m\n\u001b[0m\u001b[1;32m    196\u001b[0m         \u001b[0mself\u001b[0m\u001b[0;34m.\u001b[0m\u001b[0m__matrix\u001b[0m \u001b[0;34m=\u001b[0m \u001b[0marray_2d\u001b[0m\u001b[0;34m\u001b[0m\u001b[0;34m\u001b[0m\u001b[0m\n\u001b[1;32m    197\u001b[0m         \u001b[0mself\u001b[0m\u001b[0;34m.\u001b[0m\u001b[0m__symbol\u001b[0m \u001b[0;34m=\u001b[0m \u001b[0msymbol\u001b[0m\u001b[0;34m\u001b[0m\u001b[0;34m\u001b[0m\u001b[0m\n",
      "\u001b[0;32m/mnt/d/fun/matrix-py/matrix/__init__.py\u001b[0m in \u001b[0;36m__check__\u001b[0;34m(self, array_2d, symbol)\u001b[0m\n\u001b[1;32m    216\u001b[0m         \u001b[0;32mif\u001b[0m \u001b[0msymbol\u001b[0m \u001b[0;32mis\u001b[0m \u001b[0;32mnot\u001b[0m \u001b[0;32mNone\u001b[0m\u001b[0;34m:\u001b[0m\u001b[0;34m\u001b[0m\u001b[0;34m\u001b[0m\u001b[0m\n\u001b[1;32m    217\u001b[0m             \u001b[0;32mif\u001b[0m \u001b[0;32mnot\u001b[0m \u001b[0misinstance\u001b[0m\u001b[0;34m(\u001b[0m\u001b[0msymbol\u001b[0m\u001b[0;34m,\u001b[0m\u001b[0mstr\u001b[0m\u001b[0;34m)\u001b[0m\u001b[0;34m:\u001b[0m \u001b[0;32mraise\u001b[0m \u001b[0mValueError\u001b[0m\u001b[0;34m(\u001b[0m\u001b[0;34mf\"symbol must be a string or None, not '{type(symbol).__name__}'\"\u001b[0m\u001b[0;34m)\u001b[0m\u001b[0;34m\u001b[0m\u001b[0;34m\u001b[0m\u001b[0m\n\u001b[0;32m--> 218\u001b[0;31m             \u001b[0;32mif\u001b[0m \u001b[0msymbol\u001b[0m \u001b[0;32min\u001b[0m \u001b[0m__mem__\u001b[0m\u001b[0;34m:\u001b[0m \u001b[0;32mraise\u001b[0m \u001b[0mKeyError\u001b[0m\u001b[0;34m(\u001b[0m\u001b[0;34mf\"'{symbol}' already exists! try with different symbol\"\u001b[0m\u001b[0;34m)\u001b[0m\u001b[0;34m\u001b[0m\u001b[0;34m\u001b[0m\u001b[0m\n\u001b[0m\u001b[1;32m    219\u001b[0m \u001b[0;34m\u001b[0m\u001b[0m\n\u001b[1;32m    220\u001b[0m     \u001b[0;32mdef\u001b[0m \u001b[0m__iter__\u001b[0m\u001b[0;34m(\u001b[0m\u001b[0mself\u001b[0m\u001b[0;34m)\u001b[0m\u001b[0;34m:\u001b[0m\u001b[0;34m\u001b[0m\u001b[0;34m\u001b[0m\u001b[0m\n",
      "\u001b[0;31mKeyError\u001b[0m: \"'A' already exists! try with different symbol\""
     ]
    }
   ],
   "source": [
    "matrix.linspace(0,10,5,True,symbol = \"A\")"
   ]
  },
  {
   "cell_type": "code",
   "execution_count": 16,
   "id": "30b39d88-93b0-41d9-9e15-36e695e25194",
   "metadata": {},
   "outputs": [
    {
     "data": {
      "text/plain": [
       "<'Matrix' object at 0x7f7e37c0e3b0 size=6 shape=(2, 3) symbol=B>"
      ]
     },
     "execution_count": 16,
     "metadata": {},
     "output_type": "execute_result"
    }
   ],
   "source": [
    "Matrix([[1,2,3],[4,5,6]],symbol = \"B\")"
   ]
  },
  {
   "cell_type": "code",
   "execution_count": 2,
   "id": "746fd22a-850d-44e1-a349-82bbbb530e65",
   "metadata": {},
   "outputs": [],
   "source": [
    "import matrix"
   ]
  },
  {
   "cell_type": "code",
   "execution_count": 3,
   "id": "f55ac200-58cf-449e-ad6f-d3aff2c9e4b8",
   "metadata": {},
   "outputs": [
    {
     "data": {
      "text/plain": [
       "<'Matrix' object at 0x7f7aedcbdc60 size=2 shape=(1, 2) symbol=A>"
      ]
     },
     "execution_count": 3,
     "metadata": {},
     "output_type": "execute_result"
    }
   ],
   "source": [
    "matrix.linspace(0,10,2,symbol=\"A\")"
   ]
  },
  {
   "cell_type": "code",
   "execution_count": 4,
   "id": "bdd0be0f-baf9-4885-912f-479adb6f35b7",
   "metadata": {},
   "outputs": [],
   "source": [
    "from matrix import Matrix\n",
    "import numpy as np"
   ]
  },
  {
   "cell_type": "code",
   "execution_count": 5,
   "id": "04d1fd5e",
   "metadata": {},
   "outputs": [],
   "source": [
    "x = Matrix([[1,2,3],[4,5,6]])\n",
    "y = np.array([[1,2,3],[4,5,6]])"
   ]
  },
  {
   "cell_type": "code",
   "execution_count": 6,
   "id": "7c6d5155-0f26-4cf0-b7a2-64baad2d7aaf",
   "metadata": {},
   "outputs": [],
   "source": [
    "def softmax_2d(Z, axis=1):\n",
    "    # Subtracting the max for numerical stability\n",
    "    Z = Z - np.max(Z, axis=axis, keepdims=True)\n",
    "    exp_Z = np.exp(Z)\n",
    "    return exp_Z / np.sum(exp_Z, axis=axis, keepdims=True)"
   ]
  },
  {
   "cell_type": "code",
   "execution_count": 7,
   "id": "38e23784",
   "metadata": {},
   "outputs": [
    {
     "data": {
      "text/plain": [
       "(array([[0.04742587, 0.04742587, 0.04742587],\n",
       "        [0.95257413, 0.95257413, 0.95257413]]),\n",
       " array([[0.04742587, 0.04742587, 0.04742587],\n",
       "        [0.95257413, 0.95257413, 0.95257413]]))"
      ]
     },
     "execution_count": 7,
     "metadata": {},
     "output_type": "execute_result"
    }
   ],
   "source": [
    "x.softmax(axis=0).numpy(),softmax_2d(y,axis=0)"
   ]
  },
  {
   "cell_type": "code",
   "execution_count": 8,
   "id": "2fb0de88",
   "metadata": {},
   "outputs": [
    {
     "data": {
      "text/plain": [
       "(array([[0.09003057, 0.24472847, 0.66524096],\n",
       "        [0.09003057, 0.24472847, 0.66524096]]),\n",
       " array([[0.09003057, 0.24472847, 0.66524096],\n",
       "        [0.09003057, 0.24472847, 0.66524096]]))"
      ]
     },
     "execution_count": 8,
     "metadata": {},
     "output_type": "execute_result"
    }
   ],
   "source": [
    "x.softmax(axis=1).numpy(),softmax_2d(y,axis=1)"
   ]
  },
  {
   "cell_type": "code",
   "execution_count": 9,
   "id": "305878de-e6d5-492a-8092-6b3ed0c07b54",
   "metadata": {},
   "outputs": [
    {
     "name": "stdout",
     "output_type": "stream",
     "text": [
      "\u001b[1;31mSignature:\u001b[0m\n",
      "\u001b[0mm\u001b[0m\u001b[1;33m.\u001b[0m\u001b[0mmatrix\u001b[0m\u001b[1;33m(\u001b[0m\u001b[1;33m\n",
      "\u001b[0m    \u001b[0marray1d\u001b[0m\u001b[1;33m:\u001b[0m \u001b[0mList\u001b[0m\u001b[1;33m[\u001b[0m\u001b[0mUnion\u001b[0m\u001b[1;33m[\u001b[0m\u001b[0mint\u001b[0m\u001b[1;33m,\u001b[0m \u001b[0mfloat\u001b[0m\u001b[1;33m,\u001b[0m \u001b[0mbool\u001b[0m\u001b[1;33m]\u001b[0m\u001b[1;33m]\u001b[0m\u001b[1;33m,\u001b[0m\u001b[1;33m\n",
      "\u001b[0m    \u001b[0mshape\u001b[0m\u001b[1;33m:\u001b[0m \u001b[0mTuple\u001b[0m\u001b[1;33m[\u001b[0m\u001b[0mint\u001b[0m\u001b[1;33m,\u001b[0m \u001b[0mint\u001b[0m\u001b[1;33m]\u001b[0m\u001b[1;33m,\u001b[0m\u001b[1;33m\n",
      "\u001b[0m    \u001b[0msymbol\u001b[0m\u001b[1;33m:\u001b[0m \u001b[0mOptional\u001b[0m\u001b[1;33m[\u001b[0m\u001b[0mstr\u001b[0m\u001b[1;33m]\u001b[0m \u001b[1;33m=\u001b[0m \u001b[1;32mNone\u001b[0m\u001b[1;33m,\u001b[0m\u001b[1;33m\n",
      "\u001b[0m\u001b[1;33m)\u001b[0m\u001b[1;33m\u001b[0m\u001b[1;33m\u001b[0m\u001b[0m\n",
      "\u001b[1;31mDocstring:\u001b[0m <no docstring>\n",
      "\u001b[1;31mFile:\u001b[0m      d:\\fun\\matrix-py\\matrix\\__init__.py\n",
      "\u001b[1;31mType:\u001b[0m      function"
     ]
    }
   ],
   "source": [
    "import matrix as m\n",
    "m.matrix?"
   ]
  },
  {
   "cell_type": "code",
   "execution_count": null,
   "id": "b7dd0369",
   "metadata": {},
   "outputs": [],
   "source": []
  }
 ],
 "metadata": {
  "kernelspec": {
   "display_name": "Python 3 (ipykernel)",
   "language": "python",
   "name": "python3"
  },
  "language_info": {
   "codemirror_mode": {
    "name": "ipython",
    "version": 3
   },
   "file_extension": ".py",
   "mimetype": "text/x-python",
   "name": "python",
   "nbconvert_exporter": "python",
   "pygments_lexer": "ipython3",
   "version": "3.11.8"
  }
 },
 "nbformat": 4,
 "nbformat_minor": 5
}
